{
 "cells": [
  {
   "cell_type": "markdown",
   "id": "adcfea39",
   "metadata": {},
   "source": [
    "**Created by Berkay Alan**\n",
    "\n",
    "** **\n",
    "\n",
    "**3 of September, 2022**\n",
    "\n",
    "**Remote Data Access**\n",
    "\n",
    "**For more Tutorial**: https://www.kaggle.com/berkayalan"
   ]
  },
  {
   "cell_type": "markdown",
   "id": "2010950e",
   "metadata": {},
   "source": [
    "# Content"
   ]
  },
  {
   "cell_type": "markdown",
   "id": "3b2e4b40",
   "metadata": {},
   "source": [
    "- Datareader\n",
    "\n",
    "- Yahoo Finance\n",
    "\n",
    "- Google\n",
    "\n",
    "- World Bank\n",
    "\n",
    "- Eurostat"
   ]
  },
  {
   "cell_type": "markdown",
   "id": "485cdbdd",
   "metadata": {},
   "source": [
    "# Resources"
   ]
  },
  {
   "cell_type": "markdown",
   "id": "0c4b17cb",
   "metadata": {},
   "source": [
    "- [**Working with Time Series**](https://jakevdp.github.io/PythonDataScienceHandbook/03.11-working-with-time-series.html#:~:text=Pandas%20Time%20Series%20Data%20Structures&text=For%20time%20stamps%2C%20Pandas%20provides,associated%20Index%20structure%20is%20DatetimeIndex%20.)\n",
    "\n",
    "- [**Remote Data Access with Datareader**](https://pandas-datareader.readthedocs.io/en/latest/remote_data.html#remote-data-yahoo)\n",
    "\n",
    "- [**Pandas Datareader using Python (Tutorial)**](https://thecleverprogrammer.com/2021/03/22/pandas-datareader-using-python-tutorial/)\n",
    "\n",
    "- [**Stock Market Analysis with Pandas – DataReader and Plotly for Beginners**](https://www.analyticsvidhya.com/blog/2021/12/stock-market-analysis-with-pandas-datareader-and-plotly-for-beginners/)"
   ]
  },
  {
   "cell_type": "markdown",
   "id": "6095334d",
   "metadata": {},
   "source": [
    "# Installing Libraries"
   ]
  },
  {
   "cell_type": "code",
   "execution_count": 62,
   "id": "ebd64582",
   "metadata": {},
   "outputs": [],
   "source": [
    "import pandas as pd\n",
    "import numpy as np\n",
    "import matplotlib.pyplot as plt\n",
    "from matplotlib import dates\n",
    "import seaborn as sns\n",
    "from datetime import datetime\n",
    "\n",
    "from pandas_datareader import data, wb\n",
    "\n",
    "from warnings import filterwarnings\n",
    "filterwarnings('ignore')"
   ]
  },
  {
   "cell_type": "markdown",
   "id": "66e19684",
   "metadata": {},
   "source": [
    "In order to see all rows and columns, we will increase max display numbers of dataframe."
   ]
  },
  {
   "cell_type": "code",
   "execution_count": 9,
   "id": "98c935a4",
   "metadata": {},
   "outputs": [],
   "source": [
    "pd.set_option('display.max_rows', 1000)\n",
    "pd.set_option('display.max_columns', 1000)\n",
    "pd.set_option('display.width', 1000)\n",
    "pd.set_option('display.max_colwidth', -1)"
   ]
  },
  {
   "cell_type": "markdown",
   "id": "026e379a",
   "metadata": {},
   "source": [
    "# Datareader"
   ]
  },
  {
   "cell_type": "markdown",
   "id": "8b0d18fe",
   "metadata": {},
   "source": [
    " Analysing the stock prices demands a dataset that is continuously updating. In such scenarios, pandas have a special library called **pandas-datareader** and it is popularly used for working with realtime stock price datasets. \n",
    " \n",
    "  Pandas Datareader is a Python package that allows us to create a pandas DataFrame object by using various data sources from the internet. This package allows us to create a pandas DataFrame by using some popular data sources available on the internet. We will cover here the most used ones."
   ]
  },
  {
   "cell_type": "markdown",
   "id": "7ff529ea",
   "metadata": {},
   "source": [
    " If you haven't installed this library yet, you can install it as below:\n",
    " \n",
    "     'pip install pandas-datareader' "
   ]
  },
  {
   "cell_type": "markdown",
   "id": "ea6c35cb",
   "metadata": {
    "heading_collapsed": true
   },
   "source": [
    "# Yahoo Finance"
   ]
  },
  {
   "cell_type": "markdown",
   "id": "375c3262",
   "metadata": {
    "hidden": true
   },
   "source": [
    "It provides stock market data from Yahoo Finance."
   ]
  },
  {
   "cell_type": "markdown",
   "id": "4aa48740",
   "metadata": {
    "hidden": true
   },
   "source": [
    " Yahoo API makes possible of these functions:\n",
    "        \n",
    "- yahoo : retrieve daily stock prices (high, open, close, volume and adjusted close)\n",
    "\n",
    "- yahoo-actions : retrieve historical corporate actions (dividends and stock splits)\n",
    "\n",
    "- yahoo-dividends : retrieve historical dividends"
   ]
  },
  {
   "cell_type": "markdown",
   "id": "cd7f04af",
   "metadata": {
    "hidden": true
   },
   "source": [
    "Let's get the stock data of General Electric Company (GE)."
   ]
  },
  {
   "cell_type": "code",
   "execution_count": 23,
   "id": "fa062cff",
   "metadata": {
    "hidden": true
   },
   "outputs": [],
   "source": [
    "df = data.DataReader('GE', 'yahoo', start='2019-01-10', end='2022-09-01')"
   ]
  },
  {
   "cell_type": "markdown",
   "id": "d61ee9f3",
   "metadata": {
    "hidden": true
   },
   "source": [
    "We should give the name of stock(GE), source(yahoo), start and end date  to the function."
   ]
  },
  {
   "cell_type": "code",
   "execution_count": 24,
   "id": "17b2cd3b",
   "metadata": {
    "hidden": true
   },
   "outputs": [
    {
     "data": {
      "text/html": [
       "<div>\n",
       "<style scoped>\n",
       "    .dataframe tbody tr th:only-of-type {\n",
       "        vertical-align: middle;\n",
       "    }\n",
       "\n",
       "    .dataframe tbody tr th {\n",
       "        vertical-align: top;\n",
       "    }\n",
       "\n",
       "    .dataframe thead th {\n",
       "        text-align: right;\n",
       "    }\n",
       "</style>\n",
       "<table border=\"1\" class=\"dataframe\">\n",
       "  <thead>\n",
       "    <tr style=\"text-align: right;\">\n",
       "      <th></th>\n",
       "      <th>High</th>\n",
       "      <th>Low</th>\n",
       "      <th>Open</th>\n",
       "      <th>Close</th>\n",
       "      <th>Volume</th>\n",
       "      <th>Adj Close</th>\n",
       "    </tr>\n",
       "    <tr>\n",
       "      <th>Date</th>\n",
       "      <th></th>\n",
       "      <th></th>\n",
       "      <th></th>\n",
       "      <th></th>\n",
       "      <th></th>\n",
       "      <th></th>\n",
       "    </tr>\n",
       "  </thead>\n",
       "  <tbody>\n",
       "    <tr>\n",
       "      <th>2019-01-10</th>\n",
       "      <td>68.846153</td>\n",
       "      <td>65.307693</td>\n",
       "      <td>65.384613</td>\n",
       "      <td>68.769234</td>\n",
       "      <td>14604395.0</td>\n",
       "      <td>67.792091</td>\n",
       "    </tr>\n",
       "    <tr>\n",
       "      <th>2019-01-11</th>\n",
       "      <td>68.846153</td>\n",
       "      <td>67.076920</td>\n",
       "      <td>68.230766</td>\n",
       "      <td>68.769234</td>\n",
       "      <td>10487009.0</td>\n",
       "      <td>67.792091</td>\n",
       "    </tr>\n",
       "    <tr>\n",
       "      <th>2019-01-14</th>\n",
       "      <td>69.230766</td>\n",
       "      <td>67.384613</td>\n",
       "      <td>67.769234</td>\n",
       "      <td>68.461540</td>\n",
       "      <td>10618153.0</td>\n",
       "      <td>67.488777</td>\n",
       "    </tr>\n",
       "    <tr>\n",
       "      <th>2019-01-15</th>\n",
       "      <td>68.692307</td>\n",
       "      <td>66.923080</td>\n",
       "      <td>68.538460</td>\n",
       "      <td>67.153847</td>\n",
       "      <td>12227566.0</td>\n",
       "      <td>66.199661</td>\n",
       "    </tr>\n",
       "    <tr>\n",
       "      <th>2019-01-16</th>\n",
       "      <td>69.230766</td>\n",
       "      <td>66.615387</td>\n",
       "      <td>67.000000</td>\n",
       "      <td>69.076920</td>\n",
       "      <td>10954541.0</td>\n",
       "      <td>68.095398</td>\n",
       "    </tr>\n",
       "  </tbody>\n",
       "</table>\n",
       "</div>"
      ],
      "text/plain": [
       "                 High        Low       Open      Close      Volume  Adj Close\n",
       "Date                                                                         \n",
       "2019-01-10  68.846153  65.307693  65.384613  68.769234  14604395.0  67.792091\n",
       "2019-01-11  68.846153  67.076920  68.230766  68.769234  10487009.0  67.792091\n",
       "2019-01-14  69.230766  67.384613  67.769234  68.461540  10618153.0  67.488777\n",
       "2019-01-15  68.692307  66.923080  68.538460  67.153847  12227566.0  66.199661\n",
       "2019-01-16  69.230766  66.615387  67.000000  69.076920  10954541.0  68.095398"
      ]
     },
     "execution_count": 24,
     "metadata": {},
     "output_type": "execute_result"
    }
   ],
   "source": [
    "df.head()"
   ]
  },
  {
   "cell_type": "markdown",
   "id": "b9900a77",
   "metadata": {
    "hidden": true
   },
   "source": [
    "We can also see the cooperate actions of GE. If you want to check, you can find it [here](https://finance.yahoo.com/quote/GE/)."
   ]
  },
  {
   "cell_type": "code",
   "execution_count": 25,
   "id": "db02f66c",
   "metadata": {
    "hidden": true
   },
   "outputs": [
    {
     "data": {
      "text/html": [
       "<div>\n",
       "<style scoped>\n",
       "    .dataframe tbody tr th:only-of-type {\n",
       "        vertical-align: middle;\n",
       "    }\n",
       "\n",
       "    .dataframe tbody tr th {\n",
       "        vertical-align: top;\n",
       "    }\n",
       "\n",
       "    .dataframe thead th {\n",
       "        text-align: right;\n",
       "    }\n",
       "</style>\n",
       "<table border=\"1\" class=\"dataframe\">\n",
       "  <thead>\n",
       "    <tr style=\"text-align: right;\">\n",
       "      <th></th>\n",
       "      <th>action</th>\n",
       "      <th>value</th>\n",
       "    </tr>\n",
       "  </thead>\n",
       "  <tbody>\n",
       "    <tr>\n",
       "      <th>2022-06-27</th>\n",
       "      <td>DIVIDEND</td>\n",
       "      <td>0.08</td>\n",
       "    </tr>\n",
       "    <tr>\n",
       "      <th>2022-03-07</th>\n",
       "      <td>DIVIDEND</td>\n",
       "      <td>0.08</td>\n",
       "    </tr>\n",
       "    <tr>\n",
       "      <th>2021-12-20</th>\n",
       "      <td>DIVIDEND</td>\n",
       "      <td>0.08</td>\n",
       "    </tr>\n",
       "    <tr>\n",
       "      <th>2021-09-24</th>\n",
       "      <td>DIVIDEND</td>\n",
       "      <td>0.08</td>\n",
       "    </tr>\n",
       "    <tr>\n",
       "      <th>2021-08-02</th>\n",
       "      <td>SPLIT</td>\n",
       "      <td>8.0</td>\n",
       "    </tr>\n",
       "  </tbody>\n",
       "</table>\n",
       "</div>"
      ],
      "text/plain": [
       "              action value\n",
       "2022-06-27  DIVIDEND  0.08\n",
       "2022-03-07  DIVIDEND  0.08\n",
       "2021-12-20  DIVIDEND  0.08\n",
       "2021-09-24  DIVIDEND  0.08\n",
       "2021-08-02  SPLIT     8.0 "
      ]
     },
     "execution_count": 25,
     "metadata": {},
     "output_type": "execute_result"
    }
   ],
   "source": [
    "actions = data.DataReader('GE', 'yahoo-actions', start='2019-01-10', end= datetime.today())\n",
    "actions.head()"
   ]
  },
  {
   "cell_type": "markdown",
   "id": "647e1789",
   "metadata": {
    "hidden": true
   },
   "source": [
    "Now let's see historical dividends."
   ]
  },
  {
   "cell_type": "code",
   "execution_count": 26,
   "id": "09b1c627",
   "metadata": {
    "hidden": true
   },
   "outputs": [],
   "source": [
    "dividends = data.DataReader('GE', 'yahoo-dividends', start='2019-01-10', end= datetime.today())"
   ]
  },
  {
   "cell_type": "code",
   "execution_count": 27,
   "id": "279b7872",
   "metadata": {
    "hidden": true
   },
   "outputs": [
    {
     "data": {
      "text/html": [
       "<div>\n",
       "<style scoped>\n",
       "    .dataframe tbody tr th:only-of-type {\n",
       "        vertical-align: middle;\n",
       "    }\n",
       "\n",
       "    .dataframe tbody tr th {\n",
       "        vertical-align: top;\n",
       "    }\n",
       "\n",
       "    .dataframe thead th {\n",
       "        text-align: right;\n",
       "    }\n",
       "</style>\n",
       "<table border=\"1\" class=\"dataframe\">\n",
       "  <thead>\n",
       "    <tr style=\"text-align: right;\">\n",
       "      <th></th>\n",
       "      <th>action</th>\n",
       "      <th>value</th>\n",
       "    </tr>\n",
       "  </thead>\n",
       "  <tbody>\n",
       "    <tr>\n",
       "      <th>2022-06-27</th>\n",
       "      <td>DIVIDEND</td>\n",
       "      <td>0.08</td>\n",
       "    </tr>\n",
       "    <tr>\n",
       "      <th>2022-03-07</th>\n",
       "      <td>DIVIDEND</td>\n",
       "      <td>0.08</td>\n",
       "    </tr>\n",
       "    <tr>\n",
       "      <th>2021-12-20</th>\n",
       "      <td>DIVIDEND</td>\n",
       "      <td>0.08</td>\n",
       "    </tr>\n",
       "    <tr>\n",
       "      <th>2021-09-24</th>\n",
       "      <td>DIVIDEND</td>\n",
       "      <td>0.08</td>\n",
       "    </tr>\n",
       "    <tr>\n",
       "      <th>2021-06-25</th>\n",
       "      <td>DIVIDEND</td>\n",
       "      <td>0.08</td>\n",
       "    </tr>\n",
       "  </tbody>\n",
       "</table>\n",
       "</div>"
      ],
      "text/plain": [
       "              action value\n",
       "2022-06-27  DIVIDEND  0.08\n",
       "2022-03-07  DIVIDEND  0.08\n",
       "2021-12-20  DIVIDEND  0.08\n",
       "2021-09-24  DIVIDEND  0.08\n",
       "2021-06-25  DIVIDEND  0.08"
      ]
     },
     "execution_count": 27,
     "metadata": {},
     "output_type": "execute_result"
    }
   ],
   "source": [
    "dividends.head()"
   ]
  },
  {
   "cell_type": "markdown",
   "id": "1add0eac",
   "metadata": {
    "hidden": true
   },
   "source": [
    "This is that much easy!"
   ]
  },
  {
   "cell_type": "markdown",
   "id": "8f6df3e2",
   "metadata": {
    "hidden": true
   },
   "source": [
    "At last, let's create a plot with stock data."
   ]
  },
  {
   "cell_type": "code",
   "execution_count": 36,
   "id": "da9d4e06",
   "metadata": {
    "hidden": true
   },
   "outputs": [
    {
     "data": {
      "image/png": "[encoded data removed]",
      "text/plain": [
       "<Figure size 1080x432 with 1 Axes>"
      ]
     },
     "metadata": {
      "needs_background": "light"
     },
     "output_type": "display_data"
    }
   ],
   "source": [
    "df['Close'].plot(figsize=(15,6), color = \"g\")\n",
    "\n",
    "plt.title(\"General Electric Closing Stock Prices\")\n",
    "plt.xlabel(\"Price Date\")\n",
    "plt.ylabel(\"Lowest Price (USD)\")\n",
    "plt.show()"
   ]
  },
  {
   "cell_type": "markdown",
   "id": "12e738ab",
   "metadata": {},
   "source": [
    "# OECD"
   ]
  },
  {
   "cell_type": "markdown",
   "id": "4d784d56",
   "metadata": {},
   "source": [
    " It's usage is as same as Yahoo. We only neet to specify dataset code. List of all OECD databases can be found [here](http://stats.oecd.org/).\n",
    " \n",
    " To confirm data set code, access to each data -> Export -> SDMX Query. Following example is to download ‘Strictness of employment protection – individual and collective dismissals (regular contracts’ data which set code is ‘EPL_OV’. [Here](https://stats.oecd.org/Index.aspx?DataSetCode=TUD) is the link of data"
   ]
  },
  {
   "cell_type": "code",
   "execution_count": 51,
   "id": "b67680e8",
   "metadata": {},
   "outputs": [],
   "source": [
    "df = data.DataReader('EPL_OV', 'oecd')"
   ]
  },
  {
   "cell_type": "code",
   "execution_count": 52,
   "id": "e0501a08",
   "metadata": {},
   "outputs": [
    {
     "data": {
      "text/html": [
       "<div>\n",
       "<style scoped>\n",
       "    .dataframe tbody tr th:only-of-type {\n",
       "        vertical-align: middle;\n",
       "    }\n",
       "\n",
       "    .dataframe tbody tr th {\n",
       "        vertical-align: top;\n",
       "    }\n",
       "\n",
       "    .dataframe thead th {\n",
       "        text-align: right;\n",
       "    }\n",
       "</style>\n",
       "<table border=\"1\" class=\"dataframe\">\n",
       "  <thead>\n",
       "    <tr style=\"text-align: right;\">\n",
       "      <th></th>\n",
       "      <th>Time</th>\n",
       "      <th>2018-01-01</th>\n",
       "      <th>2019-01-01</th>\n",
       "    </tr>\n",
       "    <tr>\n",
       "      <th>Country</th>\n",
       "      <th>Series</th>\n",
       "      <th></th>\n",
       "      <th></th>\n",
       "    </tr>\n",
       "  </thead>\n",
       "  <tbody>\n",
       "    <tr>\n",
       "      <th rowspan=\"4\" valign=\"top\">Australia</th>\n",
       "      <th>Version 1 (1985-2019)</th>\n",
       "      <td>1.666667</td>\n",
       "      <td>1.666667</td>\n",
       "    </tr>\n",
       "    <tr>\n",
       "      <th>Version 2 (1998-2019)</th>\n",
       "      <td>2.011905</td>\n",
       "      <td>2.011905</td>\n",
       "    </tr>\n",
       "    <tr>\n",
       "      <th>Version 3 (2008-2019)</th>\n",
       "      <td>1.940476</td>\n",
       "      <td>1.940476</td>\n",
       "    </tr>\n",
       "    <tr>\n",
       "      <th>Version 4 (2013-2019)</th>\n",
       "      <td>1.700078</td>\n",
       "      <td>1.700078</td>\n",
       "    </tr>\n",
       "    <tr>\n",
       "      <th>Austria</th>\n",
       "      <th>Version 1 (1985-2019)</th>\n",
       "      <td>2.285714</td>\n",
       "      <td>2.285714</td>\n",
       "    </tr>\n",
       "  </tbody>\n",
       "</table>\n",
       "</div>"
      ],
      "text/plain": [
       "Time                             2018-01-01  2019-01-01\n",
       "Country   Series                                       \n",
       "Australia Version 1 (1985-2019)  1.666667    1.666667  \n",
       "          Version 2 (1998-2019)  2.011905    2.011905  \n",
       "          Version 3 (2008-2019)  1.940476    1.940476  \n",
       "          Version 4 (2013-2019)  1.700078    1.700078  \n",
       "Austria   Version 1 (1985-2019)  2.285714    2.285714  "
      ]
     },
     "execution_count": 52,
     "metadata": {},
     "output_type": "execute_result"
    }
   ],
   "source": [
    "df.T.head()"
   ]
  },
  {
   "cell_type": "markdown",
   "id": "0abd599c",
   "metadata": {},
   "source": [
    "# World Bank"
   ]
  },
  {
   "cell_type": "markdown",
   "id": "9a55f7be",
   "metadata": {},
   "source": [
    " We also can get data easily from the [World Bank’s World Development Indicators](https://data.worldbank.org/) by using the wb I/O functions."
   ]
  },
  {
   "cell_type": "markdown",
   "id": "72e3dede",
   "metadata": {},
   "source": [
    "Either from exploring the World Bank site, or using the search function included, every world bank indicator is accessible.\n",
    "\n",
    "For example, if we wanted to compare the Gross Domestic Products per capita in constant dollars in USA, Germany and Türkiye, we would use the search function:"
   ]
  },
  {
   "cell_type": "code",
   "execution_count": 65,
   "id": "16016204",
   "metadata": {},
   "outputs": [],
   "source": [
    "matches = wb.search('gdp.*capita.*const')"
   ]
  },
  {
   "cell_type": "code",
   "execution_count": 85,
   "id": "56631c29",
   "metadata": {},
   "outputs": [],
   "source": [
    "dat = wb.download(indicator='NY.GDP.PCAP.KD', country=['US', 'DEU', 'TR'], start=2017, end=2021)"
   ]
  },
  {
   "cell_type": "code",
   "execution_count": 86,
   "id": "67d9b496",
   "metadata": {},
   "outputs": [
    {
     "data": {
      "text/html": [
       "<div>\n",
       "<style scoped>\n",
       "    .dataframe tbody tr th:only-of-type {\n",
       "        vertical-align: middle;\n",
       "    }\n",
       "\n",
       "    .dataframe tbody tr th {\n",
       "        vertical-align: top;\n",
       "    }\n",
       "\n",
       "    .dataframe thead th {\n",
       "        text-align: right;\n",
       "    }\n",
       "</style>\n",
       "<table border=\"1\" class=\"dataframe\">\n",
       "  <thead>\n",
       "    <tr style=\"text-align: right;\">\n",
       "      <th></th>\n",
       "      <th></th>\n",
       "      <th>NY.GDP.PCAP.KD</th>\n",
       "    </tr>\n",
       "    <tr>\n",
       "      <th>country</th>\n",
       "      <th>year</th>\n",
       "      <th></th>\n",
       "    </tr>\n",
       "  </thead>\n",
       "  <tbody>\n",
       "    <tr>\n",
       "      <th rowspan=\"5\" valign=\"top\">Germany</th>\n",
       "      <th>2021</th>\n",
       "      <td>42526.553689</td>\n",
       "    </tr>\n",
       "    <tr>\n",
       "      <th>2020</th>\n",
       "      <td>41315.313571</td>\n",
       "    </tr>\n",
       "    <tr>\n",
       "      <th>2019</th>\n",
       "      <td>43329.050689</td>\n",
       "    </tr>\n",
       "    <tr>\n",
       "      <th>2018</th>\n",
       "      <td>42973.289957</td>\n",
       "    </tr>\n",
       "    <tr>\n",
       "      <th>2017</th>\n",
       "      <td>42639.554409</td>\n",
       "    </tr>\n",
       "    <tr>\n",
       "      <th rowspan=\"5\" valign=\"top\">Turkiye</th>\n",
       "      <th>2021</th>\n",
       "      <td>13250.658911</td>\n",
       "    </tr>\n",
       "    <tr>\n",
       "      <th>2020</th>\n",
       "      <td>12038.628110</td>\n",
       "    </tr>\n",
       "    <tr>\n",
       "      <th>2019</th>\n",
       "      <td>11955.433464</td>\n",
       "    </tr>\n",
       "    <tr>\n",
       "      <th>2018</th>\n",
       "      <td>12006.815880</td>\n",
       "    </tr>\n",
       "    <tr>\n",
       "      <th>2017</th>\n",
       "      <td>11835.261106</td>\n",
       "    </tr>\n",
       "    <tr>\n",
       "      <th rowspan=\"5\" valign=\"top\">United States</th>\n",
       "      <th>2021</th>\n",
       "      <td>61280.389602</td>\n",
       "    </tr>\n",
       "    <tr>\n",
       "      <th>2020</th>\n",
       "      <td>58060.313948</td>\n",
       "    </tr>\n",
       "    <tr>\n",
       "      <th>2019</th>\n",
       "      <td>60687.232258</td>\n",
       "    </tr>\n",
       "    <tr>\n",
       "      <th>2018</th>\n",
       "      <td>59600.053098</td>\n",
       "    </tr>\n",
       "    <tr>\n",
       "      <th>2017</th>\n",
       "      <td>58215.411628</td>\n",
       "    </tr>\n",
       "  </tbody>\n",
       "</table>\n",
       "</div>"
      ],
      "text/plain": [
       "                    NY.GDP.PCAP.KD\n",
       "country       year                \n",
       "Germany       2021  42526.553689  \n",
       "              2020  41315.313571  \n",
       "              2019  43329.050689  \n",
       "              2018  42973.289957  \n",
       "              2017  42639.554409  \n",
       "Turkiye       2021  13250.658911  \n",
       "              2020  12038.628110  \n",
       "              2019  11955.433464  \n",
       "              2018  12006.815880  \n",
       "              2017  11835.261106  \n",
       "United States 2021  61280.389602  \n",
       "              2020  58060.313948  \n",
       "              2019  60687.232258  \n",
       "              2018  59600.053098  \n",
       "              2017  58215.411628  "
      ]
     },
     "execution_count": 86,
     "metadata": {},
     "output_type": "execute_result"
    }
   ],
   "source": [
    "dat"
   ]
  },
  {
   "cell_type": "markdown",
   "id": "880d6332",
   "metadata": {},
   "source": [
    "The resulting dataset is a properly formatted DataFrame with a hierarchical index."
   ]
  },
  {
   "cell_type": "markdown",
   "id": "86c0b204",
   "metadata": {},
   "source": [
    "All available country codes can be found with this code:\n",
    "\n",
    "    'wb.country_codes'\n",
    "    \n",
    "Or from [here](https://wits.worldbank.org/wits/wits/witshelp/content/codes/country_codes.htm)."
   ]
  },
  {
   "cell_type": "markdown",
   "id": "23d986c3",
   "metadata": {},
   "source": [
    "# Eurostat"
   ]
  },
  {
   "cell_type": "markdown",
   "id": "da5298f4",
   "metadata": {},
   "source": [
    " Eurostat is also easy. Now we will get Population connected to public water supply data.  The target URL is:\n",
    "\n",
    "    https://ec.europa.eu/eurostat/databrowser/view/env_wat_pop/default/table?lang=en\n",
    "\n",
    "We will specify dataset ID ‘env_ww_con’ to get corresponding data via DataReader."
   ]
  },
  {
   "cell_type": "code",
   "execution_count": 54,
   "id": "24df98d3",
   "metadata": {},
   "outputs": [],
   "source": [
    "df = data.DataReader('env_ww_con', 'eurostat')"
   ]
  },
  {
   "cell_type": "code",
   "execution_count": 59,
   "id": "67588fbd",
   "metadata": {},
   "outputs": [],
   "source": [
    "df = df.T.reset_index()"
   ]
  },
  {
   "cell_type": "code",
   "execution_count": 60,
   "id": "390d09ea",
   "metadata": {},
   "outputs": [
    {
     "data": {
      "text/html": [
       "<div>\n",
       "<style scoped>\n",
       "    .dataframe tbody tr th:only-of-type {\n",
       "        vertical-align: middle;\n",
       "    }\n",
       "\n",
       "    .dataframe tbody tr th {\n",
       "        vertical-align: top;\n",
       "    }\n",
       "\n",
       "    .dataframe thead th {\n",
       "        text-align: right;\n",
       "    }\n",
       "</style>\n",
       "<table border=\"1\" class=\"dataframe\">\n",
       "  <thead>\n",
       "    <tr style=\"text-align: right;\">\n",
       "      <th>TIME_PERIOD</th>\n",
       "      <th>UNIT</th>\n",
       "      <th>WW_TP</th>\n",
       "      <th>GEO</th>\n",
       "      <th>FREQ</th>\n",
       "      <th>2018-01-01 00:00:00</th>\n",
       "      <th>2019-01-01 00:00:00</th>\n",
       "      <th>2020-01-01 00:00:00</th>\n",
       "    </tr>\n",
       "  </thead>\n",
       "  <tbody>\n",
       "    <tr>\n",
       "      <th>0</th>\n",
       "      <td>Percentage</td>\n",
       "      <td>Independent wastewater treatment - total</td>\n",
       "      <td>Albania</td>\n",
       "      <td>Annual</td>\n",
       "      <td>NaN</td>\n",
       "      <td>NaN</td>\n",
       "      <td>NaN</td>\n",
       "    </tr>\n",
       "    <tr>\n",
       "      <th>1</th>\n",
       "      <td>Percentage</td>\n",
       "      <td>Independent wastewater treatment - total</td>\n",
       "      <td>Austria</td>\n",
       "      <td>Annual</td>\n",
       "      <td>4.05</td>\n",
       "      <td>4.05</td>\n",
       "      <td>3.96</td>\n",
       "    </tr>\n",
       "    <tr>\n",
       "      <th>2</th>\n",
       "      <td>Percentage</td>\n",
       "      <td>Independent wastewater treatment - total</td>\n",
       "      <td>Bosnia and Herzegovina</td>\n",
       "      <td>Annual</td>\n",
       "      <td>13.00</td>\n",
       "      <td>13.00</td>\n",
       "      <td>NaN</td>\n",
       "    </tr>\n",
       "    <tr>\n",
       "      <th>3</th>\n",
       "      <td>Percentage</td>\n",
       "      <td>Independent wastewater treatment - total</td>\n",
       "      <td>Belgium</td>\n",
       "      <td>Annual</td>\n",
       "      <td>12.73</td>\n",
       "      <td>12.81</td>\n",
       "      <td>14.23</td>\n",
       "    </tr>\n",
       "    <tr>\n",
       "      <th>4</th>\n",
       "      <td>Percentage</td>\n",
       "      <td>Independent wastewater treatment - total</td>\n",
       "      <td>Bulgaria</td>\n",
       "      <td>Annual</td>\n",
       "      <td>23.81</td>\n",
       "      <td>23.58</td>\n",
       "      <td>23.75</td>\n",
       "    </tr>\n",
       "  </tbody>\n",
       "</table>\n",
       "</div>"
      ],
      "text/plain": [
       "TIME_PERIOD        UNIT                                     WW_TP                     GEO    FREQ  2018-01-01 00:00:00  2019-01-01 00:00:00  2020-01-01 00:00:00\n",
       "0            Percentage  Independent wastewater treatment - total  Albania                 Annual NaN                  NaN                  NaN                 \n",
       "1            Percentage  Independent wastewater treatment - total  Austria                 Annual  4.05                 4.05                 3.96               \n",
       "2            Percentage  Independent wastewater treatment - total  Bosnia and Herzegovina  Annual  13.00                13.00               NaN                 \n",
       "3            Percentage  Independent wastewater treatment - total  Belgium                 Annual  12.73                12.81                14.23              \n",
       "4            Percentage  Independent wastewater treatment - total  Bulgaria                Annual  23.81                23.58                23.75              "
      ]
     },
     "execution_count": 60,
     "metadata": {},
     "output_type": "execute_result"
    }
   ],
   "source": [
    "df.head()"
   ]
  },
  {
   "cell_type": "markdown",
   "id": "1681f8bb",
   "metadata": {},
   "source": [
    "**Note:** Unit of measure is Percentage."
   ]
  },
  {
   "cell_type": "markdown",
   "id": "ed4c0c02",
   "metadata": {},
   "source": [
    "<div class=\"alert alert-block alert-success\">\n",
    "<b>Upcoming Tutorials</b>\n",
    "    <li>Time Series Analysis with Statsmodels</li>\n",
    "    <li>Forecasting and ARIMA models</li>\n",
    "    <li>Forecasting and SARIMA models</li>\n",
    "    <li>Facebook's Probhet</li>\n",
    "    <li>Facebook's Kats</li>\n",
    "    \n",
    "</div>"
   ]
  },
  {
   "cell_type": "markdown",
   "id": "90f868c7",
   "metadata": {},
   "source": [
    "Stay motivated!"
   ]
  }
 ],
 "metadata": {
  "kernelspec": {
   "display_name": "Python 3 (ipykernel)",
   "language": "python",
   "name": "python3"
  },
  "language_info": {
   "codemirror_mode": {
    "name": "ipython",
    "version": 3
   },
   "file_extension": ".py",
   "mimetype": "text/x-python",
   "name": "python",
   "nbconvert_exporter": "python",
   "pygments_lexer": "ipython3",
   "version": "3.9.12"
  },
  "toc": {
   "base_numbering": 1,
   "nav_menu": {},
   "number_sections": true,
   "sideBar": true,
   "skip_h1_title": false,
   "title_cell": "Table of Contents",
   "title_sidebar": "Contents",
   "toc_cell": false,
   "toc_position": {},
   "toc_section_display": true,
   "toc_window_display": false
  },
  "varInspector": {
   "cols": {
    "lenName": 16,
    "lenType": 16,
    "lenVar": 40
   },
   "kernels_config": {
    "python": {
     "delete_cmd_postfix": "",
     "delete_cmd_prefix": "del ",
     "library": "var_list.py",
     "varRefreshCmd": "print(var_dic_list())"
    },
    "r": {
     "delete_cmd_postfix": ") ",
     "delete_cmd_prefix": "rm(",
     "library": "var_list.r",
     "varRefreshCmd": "cat(var_dic_list()) "
    }
   },
   "types_to_exclude": [
    "module",
    "function",
    "builtin_function_or_method",
    "instance",
    "_Feature"
   ],
   "window_display": false
  }
 },
 "nbformat": 4,
 "nbformat_minor": 5
}
