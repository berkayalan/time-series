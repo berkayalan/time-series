{
 "cells": [
  {
   "cell_type": "markdown",
   "id": "adcfea39",
   "metadata": {},
   "source": [
    "**Created by Berkay Alan**\n",
    "\n",
    "** **\n",
    "\n",
    "**31 of August, 2022**\n",
    "\n",
    "**Time Series with Pandas**\n",
    "\n",
    "**For more Tutorial**: https://www.kaggle.com/berkayalan"
   ]
  },
  {
   "cell_type": "markdown",
   "id": "2010950e",
   "metadata": {},
   "source": [
    "# Content"
   ]
  },
  {
   "cell_type": "markdown",
   "id": "3b2e4b40",
   "metadata": {},
   "source": [
    "- Datetime-Index\n",
    "\n",
    "- Time Resampling\n",
    "\n",
    "- Time Shifting\n",
    "\n",
    "- Rolling and Expanding\n",
    "\n",
    "- Visualizing Time Series Data"
   ]
  },
  {
   "cell_type": "markdown",
   "id": "485cdbdd",
   "metadata": {},
   "source": [
    "# Resources"
   ]
  },
  {
   "cell_type": "markdown",
   "id": "0c4b17cb",
   "metadata": {},
   "source": [
    "- [**Pandas' all time series modules**](https://pandas.pydata.org/pandas-docs/stable/user_guide/timeseries.html#overview)\n",
    "\n",
    "- [**Pandas Range Function**](https://pandas.pydata.org/docs/reference/api/pandas.date_range.html)\n",
    "\n",
    "- [**Pandas list of frequency aliases**](https://pandas.pydata.org/docs/user_guide/timeseries.html#timeseries-offset-aliases)\n",
    "\n",
    "- [**Yahoo Finance**](https://finance.yahoo.com/quote/AAPL/history?period1=1546300800&period2=1661817600&interval=1d&filter=history&frequency=1d&includeAdjustedClose=true)\n",
    "\n",
    "- [**Python strftime cheatsheet**](https://strftime.org/)\n",
    "\n",
    "- [**Python Data Science Handbook**](https://jakevdp.github.io/PythonDataScienceHandbook/03.11-working-with-time-series.html#:~:text=Pandas%20Time%20Series%20Data%20Structures&text=For%20time%20stamps%2C%20Pandas%20provides,associated%20Index%20structure%20is%20DatetimeIndex%20.)\n",
    "\n",
    "- [**Tutorial: Time Series Analysis with Pandas**](https://www.dataquest.io/blog/tutorial-time-series-analysis-with-pandas/)"
   ]
  },
  {
   "cell_type": "markdown",
   "id": "cb967225",
   "metadata": {},
   "source": [
    "# Check Versions"
   ]
  },
  {
   "cell_type": "markdown",
   "id": "e8f5403a",
   "metadata": {},
   "source": [
    "**Python Version**"
   ]
  },
  {
   "cell_type": "code",
   "execution_count": 306,
   "id": "1af048cd",
   "metadata": {},
   "outputs": [
    {
     "data": {
      "text/plain": [
       "'3.9.12'"
      ]
     },
     "execution_count": 306,
     "metadata": {},
     "output_type": "execute_result"
    }
   ],
   "source": [
    "from platform import python_version\n",
    "python_version()"
   ]
  },
  {
   "cell_type": "markdown",
   "id": "e4845124",
   "metadata": {},
   "source": [
    "**Pip Version**"
   ]
  },
  {
   "cell_type": "code",
   "execution_count": 307,
   "id": "8302f19c",
   "metadata": {},
   "outputs": [
    {
     "name": "stdout",
     "output_type": "stream",
     "text": [
      "pip 21.2.4 from /Users/berkayalan/opt/anaconda3/lib/python3.9/site-packages/pip (python 3.9)\n",
      "Note: you may need to restart the kernel to use updated packages.\n"
     ]
    }
   ],
   "source": [
    "pip --version"
   ]
  },
  {
   "cell_type": "markdown",
   "id": "6095334d",
   "metadata": {},
   "source": [
    "# Installing Libraries"
   ]
  },
  {
   "cell_type": "code",
   "execution_count": 309,
   "id": "ebd64582",
   "metadata": {},
   "outputs": [],
   "source": [
    "import pandas as pd\n",
    "import numpy as np\n",
    "import matplotlib.pyplot as plt\n",
    "from matplotlib import dates\n",
    "import seaborn as sns\n",
    "from datetime import datetime\n",
    "\n",
    "\n",
    "from warnings import filterwarnings\n",
    "filterwarnings('ignore')"
   ]
  },
  {
   "cell_type": "markdown",
   "id": "66e19684",
   "metadata": {},
   "source": [
    "In order to see all rows and columns, we will increase max display numbers of dataframe."
   ]
  },
  {
   "cell_type": "code",
   "execution_count": 310,
   "id": "98c935a4",
   "metadata": {},
   "outputs": [],
   "source": [
    "pd.set_option('display.max_rows', 1000)\n",
    "pd.set_option('display.max_columns', 1000)\n",
    "pd.set_option('display.width', 1000)\n",
    "pd.set_option('display.max_colwidth', -1)"
   ]
  },
  {
   "cell_type": "markdown",
   "id": "d542dccd",
   "metadata": {},
   "source": [
    "# Datetime-Index"
   ]
  },
  {
   "cell_type": "code",
   "execution_count": 315,
   "id": "416dd390",
   "metadata": {},
   "outputs": [],
   "source": [
    "year = 2022\n",
    "month = 8 #August\n",
    "day = 30\n",
    "hour = 20\n",
    "minute = 45\n",
    "sec = 30"
   ]
  },
  {
   "cell_type": "code",
   "execution_count": 243,
   "id": "7a12a422",
   "metadata": {},
   "outputs": [],
   "source": [
    "my_date = datetime(year,month,day)"
   ]
  },
  {
   "cell_type": "code",
   "execution_count": 244,
   "id": "b760854e",
   "metadata": {},
   "outputs": [
    {
     "data": {
      "text/plain": [
       "datetime.datetime(2022, 8, 30, 0, 0)"
      ]
     },
     "execution_count": 244,
     "metadata": {},
     "output_type": "execute_result"
    }
   ],
   "source": [
    "my_date"
   ]
  },
  {
   "cell_type": "code",
   "execution_count": 245,
   "id": "163abdb9",
   "metadata": {},
   "outputs": [],
   "source": [
    "my_datetime = datetime(year,month,day,hour,minute,sec)"
   ]
  },
  {
   "cell_type": "code",
   "execution_count": 246,
   "id": "d907f69a",
   "metadata": {},
   "outputs": [
    {
     "data": {
      "text/plain": [
       "datetime.datetime(2022, 8, 30, 20, 45, 30)"
      ]
     },
     "execution_count": 246,
     "metadata": {},
     "output_type": "execute_result"
    }
   ],
   "source": [
    "my_datetime"
   ]
  },
  {
   "cell_type": "code",
   "execution_count": 247,
   "id": "3aaf4e75",
   "metadata": {},
   "outputs": [
    {
     "data": {
      "text/plain": [
       "2022"
      ]
     },
     "execution_count": 247,
     "metadata": {},
     "output_type": "execute_result"
    }
   ],
   "source": [
    "my_datetime.year"
   ]
  },
  {
   "cell_type": "code",
   "execution_count": 248,
   "id": "e5444372",
   "metadata": {},
   "outputs": [
    {
     "data": {
      "text/plain": [
       "8"
      ]
     },
     "execution_count": 248,
     "metadata": {},
     "output_type": "execute_result"
    }
   ],
   "source": [
    "my_datetime.month"
   ]
  },
  {
   "cell_type": "code",
   "execution_count": 249,
   "id": "f5e688a1",
   "metadata": {},
   "outputs": [
    {
     "data": {
      "text/plain": [
       "1"
      ]
     },
     "execution_count": 249,
     "metadata": {},
     "output_type": "execute_result"
    }
   ],
   "source": [
    "my_datetime.weekday()"
   ]
  },
  {
   "cell_type": "markdown",
   "id": "bc57e5c8",
   "metadata": {},
   "source": [
    "<div class=\"alert alert-block alert-info\">\n",
    "<b>Note:</b> Normally 30 August is the second day of week. But the index begins from zero.\n",
    "</div>"
   ]
  },
  {
   "cell_type": "markdown",
   "id": "0802926a",
   "metadata": {},
   "source": [
    "Let's check date in numpy."
   ]
  },
  {
   "cell_type": "code",
   "execution_count": 250,
   "id": "c69f17a7",
   "metadata": {},
   "outputs": [
    {
     "data": {
      "text/plain": [
       "array(['2022-05-07', '2022-08-06', '2022-08-30'], dtype='<U10')"
      ]
     },
     "execution_count": 250,
     "metadata": {},
     "output_type": "execute_result"
    }
   ],
   "source": [
    "np.array([\"2022-05-07\",\"2022-08-06\",\"2022-08-30\"])"
   ]
  },
  {
   "cell_type": "markdown",
   "id": "9145e4bd",
   "metadata": {},
   "source": [
    "We did not specify the data format, that's why numpy will recognize them as string. To do them datetime, we will specify the format as below."
   ]
  },
  {
   "cell_type": "code",
   "execution_count": 251,
   "id": "b5ff2cd7",
   "metadata": {},
   "outputs": [
    {
     "data": {
      "text/plain": [
       "array(['2022-05-07', '2022-08-06', '2022-08-30'], dtype='datetime64[D]')"
      ]
     },
     "execution_count": 251,
     "metadata": {},
     "output_type": "execute_result"
    }
   ],
   "source": [
    "np.array([\"2022-05-07\",\"2022-08-06\",\"2022-08-30\"],dtype=\"datetime64\")"
   ]
  },
  {
   "cell_type": "markdown",
   "id": "c4850a57",
   "metadata": {},
   "source": [
    "D means day precision. We can also specify it."
   ]
  },
  {
   "cell_type": "code",
   "execution_count": 252,
   "id": "413e4af3",
   "metadata": {},
   "outputs": [
    {
     "data": {
      "text/plain": [
       "array(['2022', '2022', '2022'], dtype='datetime64[Y]')"
      ]
     },
     "execution_count": 252,
     "metadata": {},
     "output_type": "execute_result"
    }
   ],
   "source": [
    "np.array([\"2022-05-07\",\"2022-08-06\",\"2022-08-30\"],dtype=\"datetime64[Y]\")"
   ]
  },
  {
   "cell_type": "code",
   "execution_count": 253,
   "id": "e9b9eba1",
   "metadata": {},
   "outputs": [
    {
     "data": {
      "text/plain": [
       "array(['2022-05-07T00', '2022-08-06T00', '2022-08-30T00'],\n",
       "      dtype='datetime64[h]')"
      ]
     },
     "execution_count": 253,
     "metadata": {},
     "output_type": "execute_result"
    }
   ],
   "source": [
    "np.array([\"2022-05-07\",\"2022-08-06\",\"2022-08-30\"],dtype=\"datetime64[h]\")"
   ]
  },
  {
   "cell_type": "markdown",
   "id": "cea87b05",
   "metadata": {},
   "source": [
    "Now we will look numpy date ranges."
   ]
  },
  {
   "cell_type": "code",
   "execution_count": 254,
   "id": "025c10e5",
   "metadata": {},
   "outputs": [
    {
     "data": {
      "text/plain": [
       "array([ 0,  2,  4,  6,  8, 10, 12, 14, 16, 18])"
      ]
     },
     "execution_count": 254,
     "metadata": {},
     "output_type": "execute_result"
    }
   ],
   "source": [
    "np.arange(0,20,2)"
   ]
  },
  {
   "cell_type": "markdown",
   "id": "cf7a4e67",
   "metadata": {},
   "source": [
    "Let's get all weeks between two days."
   ]
  },
  {
   "cell_type": "code",
   "execution_count": 255,
   "id": "0b3987cf",
   "metadata": {},
   "outputs": [
    {
     "data": {
      "text/plain": [
       "array(['2022-05-07', '2022-05-14', '2022-05-21', '2022-05-28',\n",
       "       '2022-06-04', '2022-06-11', '2022-06-18', '2022-06-25',\n",
       "       '2022-07-02', '2022-07-09', '2022-07-16', '2022-07-23',\n",
       "       '2022-07-30', '2022-08-06', '2022-08-13', '2022-08-20',\n",
       "       '2022-08-27'], dtype='datetime64[D]')"
      ]
     },
     "execution_count": 255,
     "metadata": {},
     "output_type": "execute_result"
    }
   ],
   "source": [
    "np.arange(start = \"2022-05-07\",\n",
    "          stop = \"2022-08-30\", \n",
    "          step = 7 ,\n",
    "          dtype = \"datetime64[D]\")"
   ]
  },
  {
   "cell_type": "code",
   "execution_count": 256,
   "id": "5ba8c5f0",
   "metadata": {},
   "outputs": [
    {
     "data": {
      "text/plain": [
       "array(['1990', '1991', '1992', '1993', '1994', '1995', '1996', '1997',\n",
       "       '1998', '1999', '2000', '2001', '2002', '2003', '2004', '2005',\n",
       "       '2006', '2007', '2008', '2009', '2010', '2011', '2012', '2013',\n",
       "       '2014', '2015', '2016', '2017', '2018', '2019'],\n",
       "      dtype='datetime64[Y]')"
      ]
     },
     "execution_count": 256,
     "metadata": {},
     "output_type": "execute_result"
    }
   ],
   "source": [
    "np.arange(start = \"1990\",\n",
    "          stop = \"2020\", \n",
    "          step = 1 ,\n",
    "          dtype = \"datetime64[Y]\")"
   ]
  },
  {
   "cell_type": "markdown",
   "id": "89d4614f",
   "metadata": {},
   "source": [
    "**Datetime Objects in Pandas**"
   ]
  },
  {
   "cell_type": "markdown",
   "id": "501fef4b",
   "metadata": {},
   "source": [
    "In general, we will work with time series as a datetime index while we're using pandas dataframes. Fortunately pandas has a lot of functions and methods to work with time series!\n",
    "\n",
    "For more on the pandas DatetimeIndex visit the pandas [documentation](https://pandas.pydata.org/pandas-docs/stable/timeseries.html)."
   ]
  },
  {
   "cell_type": "code",
   "execution_count": 257,
   "id": "e89b067c",
   "metadata": {},
   "outputs": [
    {
     "data": {
      "text/plain": [
       "DatetimeIndex(['2022-01-01', '2022-01-02', '2022-01-03', '2022-01-04', '2022-01-05', '2022-01-06', '2022-01-07'], dtype='datetime64[ns]', freq='D')"
      ]
     },
     "execution_count": 257,
     "metadata": {},
     "output_type": "execute_result"
    }
   ],
   "source": [
    "pd.date_range(start = \"2022-01-01\", periods=7, freq= \"D\")"
   ]
  },
  {
   "cell_type": "markdown",
   "id": "6deefa70",
   "metadata": {},
   "source": [
    "As we can see it returns the range of equally spaced time points. DatetimeIndex is an immutable container for datetimes and it returns as nanoseconds(ns). For more details, please check the [official page](https://pandas.pydata.org/docs/reference/api/pandas.date_range.html) of date_range function.\n",
    "\n",
    "When we used pd.date_range() above, we had to pass in a frequency parameter 'D'. This created a series of 7 dates spaced one day apart. A list of time series offset aliases like 'D' can be found [here](https://pandas.pydata.org/pandas-docs/stable/user_guide/timeseries.html#offset-aliases)."
   ]
  },
  {
   "cell_type": "code",
   "execution_count": 258,
   "id": "27e5b817",
   "metadata": {},
   "outputs": [
    {
     "data": {
      "text/plain": [
       "DatetimeIndex(['2022-08-06', '2022-08-07', '2022-08-08', '2022-08-09', '2022-08-10', '2022-08-11', '2022-08-12'], dtype='datetime64[ns]', freq='D')"
      ]
     },
     "execution_count": 258,
     "metadata": {},
     "output_type": "execute_result"
    }
   ],
   "source": [
    "pd.date_range(start = \"Aug 06, 2022\", periods=7, freq= \"D\")"
   ]
  },
  {
   "cell_type": "markdown",
   "id": "b33cd585",
   "metadata": {},
   "source": [
    "As you can see, pandas can also understand different formats."
   ]
  },
  {
   "cell_type": "markdown",
   "id": "1ff657e5",
   "metadata": {},
   "source": [
    "We also can use *pd.to_datetime()* function to convert dates."
   ]
  },
  {
   "cell_type": "code",
   "execution_count": 259,
   "id": "a9ef899e",
   "metadata": {},
   "outputs": [
    {
     "data": {
      "text/plain": [
       "DatetimeIndex(['2022-08-30', '2019-01-12', '2021-05-16'], dtype='datetime64[ns]', freq=None)"
      ]
     },
     "execution_count": 259,
     "metadata": {},
     "output_type": "execute_result"
    }
   ],
   "source": [
    "pd.to_datetime(['Aug 30, 2022','1/12/19','16-May-2021'])"
   ]
  },
  {
   "cell_type": "markdown",
   "id": "01333d63",
   "metadata": {},
   "source": [
    "We can also specify the format we want to convert."
   ]
  },
  {
   "cell_type": "code",
   "execution_count": 260,
   "id": "c92027b4",
   "metadata": {},
   "outputs": [
    {
     "data": {
      "text/plain": [
       "DatetimeIndex(['2019-12-01'], dtype='datetime64[ns]', freq=None)"
      ]
     },
     "execution_count": 260,
     "metadata": {},
     "output_type": "execute_result"
    }
   ],
   "source": [
    "pd.to_datetime(['1/12/2019'], format = \"%d/%m/%Y\")"
   ]
  },
  {
   "cell_type": "code",
   "execution_count": 261,
   "id": "65cbd6a5",
   "metadata": {},
   "outputs": [
    {
     "data": {
      "text/plain": [
       "DatetimeIndex(['2022-12-01'], dtype='datetime64[ns]', freq=None)"
      ]
     },
     "execution_count": 261,
     "metadata": {},
     "output_type": "execute_result"
    }
   ],
   "source": [
    "pd.to_datetime(['1--12--2022'], format = \"%d--%m--%Y\")"
   ]
  },
  {
   "cell_type": "markdown",
   "id": "1d20da74",
   "metadata": {},
   "source": [
    "A third option is to pass a list or an array of datetime objects into the *pd.DatetimeIndex()* function:"
   ]
  },
  {
   "cell_type": "code",
   "execution_count": 262,
   "id": "d3627bbc",
   "metadata": {},
   "outputs": [
    {
     "data": {
      "text/plain": [
       "array(['2019-04-15', '2020-05-11', '2022-10-03'], dtype='datetime64[D]')"
      ]
     },
     "execution_count": 262,
     "metadata": {},
     "output_type": "execute_result"
    }
   ],
   "source": [
    "dates = np.array(['2019-04-15', '2020-05-11', '2022-10-03'], dtype='datetime64[D]')\n",
    "dates"
   ]
  },
  {
   "cell_type": "code",
   "execution_count": 263,
   "id": "84a93ffe",
   "metadata": {},
   "outputs": [
    {
     "data": {
      "text/plain": [
       "DatetimeIndex(['2019-04-15', '2020-05-11', '2022-10-03'], dtype='datetime64[ns]', freq=None)"
      ]
     },
     "execution_count": 263,
     "metadata": {},
     "output_type": "execute_result"
    }
   ],
   "source": [
    "indexes = pd.DatetimeIndex(dates)\n",
    "indexes"
   ]
  },
  {
   "cell_type": "markdown",
   "id": "f6d7567b",
   "metadata": {
    "heading_collapsed": true
   },
   "source": [
    "# Time Resampling"
   ]
  },
  {
   "cell_type": "markdown",
   "id": "d9617a0e",
   "metadata": {
    "hidden": true
   },
   "source": [
    "For this section we'll look at Apple stock data from 2019 to 2022 which includes daily prices and volumes."
   ]
  },
  {
   "cell_type": "code",
   "execution_count": 264,
   "id": "99489461",
   "metadata": {
    "hidden": true
   },
   "outputs": [],
   "source": [
    "df = pd.read_csv('../Data/Apple.csv', parse_dates=['Date'])"
   ]
  },
  {
   "cell_type": "code",
   "execution_count": 265,
   "id": "55cb5b1d",
   "metadata": {
    "hidden": true
   },
   "outputs": [
    {
     "data": {
      "text/html": [
       "<div>\n",
       "<style scoped>\n",
       "    .dataframe tbody tr th:only-of-type {\n",
       "        vertical-align: middle;\n",
       "    }\n",
       "\n",
       "    .dataframe tbody tr th {\n",
       "        vertical-align: top;\n",
       "    }\n",
       "\n",
       "    .dataframe thead th {\n",
       "        text-align: right;\n",
       "    }\n",
       "</style>\n",
       "<table border=\"1\" class=\"dataframe\">\n",
       "  <thead>\n",
       "    <tr style=\"text-align: right;\">\n",
       "      <th></th>\n",
       "      <th>Date</th>\n",
       "      <th>Open</th>\n",
       "      <th>High</th>\n",
       "      <th>Low</th>\n",
       "      <th>Close</th>\n",
       "      <th>Adj Close</th>\n",
       "      <th>Volume</th>\n",
       "    </tr>\n",
       "  </thead>\n",
       "  <tbody>\n",
       "    <tr>\n",
       "      <th>0</th>\n",
       "      <td>2019-01-02</td>\n",
       "      <td>38.722500</td>\n",
       "      <td>39.712502</td>\n",
       "      <td>38.557499</td>\n",
       "      <td>39.480000</td>\n",
       "      <td>38.168346</td>\n",
       "      <td>148158800</td>\n",
       "    </tr>\n",
       "    <tr>\n",
       "      <th>1</th>\n",
       "      <td>2019-01-03</td>\n",
       "      <td>35.994999</td>\n",
       "      <td>36.430000</td>\n",
       "      <td>35.500000</td>\n",
       "      <td>35.547501</td>\n",
       "      <td>34.366497</td>\n",
       "      <td>365248800</td>\n",
       "    </tr>\n",
       "    <tr>\n",
       "      <th>2</th>\n",
       "      <td>2019-01-04</td>\n",
       "      <td>36.132500</td>\n",
       "      <td>37.137501</td>\n",
       "      <td>35.950001</td>\n",
       "      <td>37.064999</td>\n",
       "      <td>35.833580</td>\n",
       "      <td>234428400</td>\n",
       "    </tr>\n",
       "    <tr>\n",
       "      <th>3</th>\n",
       "      <td>2019-01-07</td>\n",
       "      <td>37.174999</td>\n",
       "      <td>37.207500</td>\n",
       "      <td>36.474998</td>\n",
       "      <td>36.982498</td>\n",
       "      <td>35.753822</td>\n",
       "      <td>219111200</td>\n",
       "    </tr>\n",
       "    <tr>\n",
       "      <th>4</th>\n",
       "      <td>2019-01-08</td>\n",
       "      <td>37.389999</td>\n",
       "      <td>37.955002</td>\n",
       "      <td>37.130001</td>\n",
       "      <td>37.687500</td>\n",
       "      <td>36.435398</td>\n",
       "      <td>164101200</td>\n",
       "    </tr>\n",
       "  </tbody>\n",
       "</table>\n",
       "</div>"
      ],
      "text/plain": [
       "        Date       Open       High        Low      Close  Adj Close     Volume\n",
       "0 2019-01-02  38.722500  39.712502  38.557499  39.480000  38.168346  148158800\n",
       "1 2019-01-03  35.994999  36.430000  35.500000  35.547501  34.366497  365248800\n",
       "2 2019-01-04  36.132500  37.137501  35.950001  37.064999  35.833580  234428400\n",
       "3 2019-01-07  37.174999  37.207500  36.474998  36.982498  35.753822  219111200\n",
       "4 2019-01-08  37.389999  37.955002  37.130001  37.687500  36.435398  164101200"
      ]
     },
     "execution_count": 265,
     "metadata": {},
     "output_type": "execute_result"
    }
   ],
   "source": [
    "df.head()"
   ]
  },
  {
   "cell_type": "code",
   "execution_count": 266,
   "id": "c8d994fa",
   "metadata": {
    "hidden": true
   },
   "outputs": [
    {
     "data": {
      "text/plain": [
       "(922, 7)"
      ]
     },
     "execution_count": 266,
     "metadata": {},
     "output_type": "execute_result"
    }
   ],
   "source": [
    "df.shape"
   ]
  },
  {
   "cell_type": "code",
   "execution_count": 267,
   "id": "43805990",
   "metadata": {
    "hidden": true
   },
   "outputs": [
    {
     "data": {
      "text/plain": [
       "RangeIndex(start=0, stop=922, step=1)"
      ]
     },
     "execution_count": 267,
     "metadata": {},
     "output_type": "execute_result"
    }
   ],
   "source": [
    "df.index"
   ]
  },
  {
   "cell_type": "markdown",
   "id": "73facf60",
   "metadata": {
    "hidden": true
   },
   "source": [
    "First, we will make Date column our index."
   ]
  },
  {
   "cell_type": "code",
   "execution_count": 268,
   "id": "3efb09c2",
   "metadata": {
    "hidden": true
   },
   "outputs": [
    {
     "data": {
      "text/html": [
       "<div>\n",
       "<style scoped>\n",
       "    .dataframe tbody tr th:only-of-type {\n",
       "        vertical-align: middle;\n",
       "    }\n",
       "\n",
       "    .dataframe tbody tr th {\n",
       "        vertical-align: top;\n",
       "    }\n",
       "\n",
       "    .dataframe thead th {\n",
       "        text-align: right;\n",
       "    }\n",
       "</style>\n",
       "<table border=\"1\" class=\"dataframe\">\n",
       "  <thead>\n",
       "    <tr style=\"text-align: right;\">\n",
       "      <th></th>\n",
       "      <th>Open</th>\n",
       "      <th>High</th>\n",
       "      <th>Low</th>\n",
       "      <th>Close</th>\n",
       "      <th>Adj Close</th>\n",
       "      <th>Volume</th>\n",
       "    </tr>\n",
       "    <tr>\n",
       "      <th>Date</th>\n",
       "      <th></th>\n",
       "      <th></th>\n",
       "      <th></th>\n",
       "      <th></th>\n",
       "      <th></th>\n",
       "      <th></th>\n",
       "    </tr>\n",
       "  </thead>\n",
       "  <tbody>\n",
       "    <tr>\n",
       "      <th>2019-01-02</th>\n",
       "      <td>38.722500</td>\n",
       "      <td>39.712502</td>\n",
       "      <td>38.557499</td>\n",
       "      <td>39.480000</td>\n",
       "      <td>38.168346</td>\n",
       "      <td>148158800</td>\n",
       "    </tr>\n",
       "    <tr>\n",
       "      <th>2019-01-03</th>\n",
       "      <td>35.994999</td>\n",
       "      <td>36.430000</td>\n",
       "      <td>35.500000</td>\n",
       "      <td>35.547501</td>\n",
       "      <td>34.366497</td>\n",
       "      <td>365248800</td>\n",
       "    </tr>\n",
       "    <tr>\n",
       "      <th>2019-01-04</th>\n",
       "      <td>36.132500</td>\n",
       "      <td>37.137501</td>\n",
       "      <td>35.950001</td>\n",
       "      <td>37.064999</td>\n",
       "      <td>35.833580</td>\n",
       "      <td>234428400</td>\n",
       "    </tr>\n",
       "    <tr>\n",
       "      <th>2019-01-07</th>\n",
       "      <td>37.174999</td>\n",
       "      <td>37.207500</td>\n",
       "      <td>36.474998</td>\n",
       "      <td>36.982498</td>\n",
       "      <td>35.753822</td>\n",
       "      <td>219111200</td>\n",
       "    </tr>\n",
       "    <tr>\n",
       "      <th>2019-01-08</th>\n",
       "      <td>37.389999</td>\n",
       "      <td>37.955002</td>\n",
       "      <td>37.130001</td>\n",
       "      <td>37.687500</td>\n",
       "      <td>36.435398</td>\n",
       "      <td>164101200</td>\n",
       "    </tr>\n",
       "  </tbody>\n",
       "</table>\n",
       "</div>"
      ],
      "text/plain": [
       "                 Open       High        Low      Close  Adj Close     Volume\n",
       "Date                                                                        \n",
       "2019-01-02  38.722500  39.712502  38.557499  39.480000  38.168346  148158800\n",
       "2019-01-03  35.994999  36.430000  35.500000  35.547501  34.366497  365248800\n",
       "2019-01-04  36.132500  37.137501  35.950001  37.064999  35.833580  234428400\n",
       "2019-01-07  37.174999  37.207500  36.474998  36.982498  35.753822  219111200\n",
       "2019-01-08  37.389999  37.955002  37.130001  37.687500  36.435398  164101200"
      ]
     },
     "execution_count": 268,
     "metadata": {},
     "output_type": "execute_result"
    }
   ],
   "source": [
    "df.set_index('Date',inplace=True)\n",
    "df.head()"
   ]
  },
  {
   "cell_type": "code",
   "execution_count": 269,
   "id": "35929522",
   "metadata": {
    "hidden": true
   },
   "outputs": [
    {
     "data": {
      "text/plain": [
       "DatetimeIndex(['2019-01-02', '2019-01-03', '2019-01-04', '2019-01-07', '2019-01-08', '2019-01-09', '2019-01-10', '2019-01-11', '2019-01-14', '2019-01-15',\n",
       "               ...\n",
       "               '2022-08-16', '2022-08-17', '2022-08-18', '2022-08-19', '2022-08-22', '2022-08-23', '2022-08-24', '2022-08-25', '2022-08-26', '2022-08-29'], dtype='datetime64[ns]', name='Date', length=922, freq=None)"
      ]
     },
     "execution_count": 269,
     "metadata": {},
     "output_type": "execute_result"
    }
   ],
   "source": [
    "df.index"
   ]
  },
  {
   "cell_type": "markdown",
   "id": "a4eb2107",
   "metadata": {
    "hidden": true
   },
   "source": [
    "Resampling of time series is a common method based on the time series index. Check out the details [here](https://pandas.pydata.org/pandas-docs/stable/reference/api/pandas.DataFrame.resample.html)."
   ]
  },
  {
   "cell_type": "code",
   "execution_count": 270,
   "id": "80fc4c77",
   "metadata": {
    "hidden": true
   },
   "outputs": [
    {
     "data": {
      "text/plain": [
       "Open        2022-01-04\n",
       "High        2022-01-04\n",
       "Low         2022-01-04\n",
       "Close       2022-01-03\n",
       "Adj Close   2022-01-03\n",
       "Volume      2020-02-28\n",
       "dtype: datetime64[ns]"
      ]
     },
     "execution_count": 270,
     "metadata": {},
     "output_type": "execute_result"
    }
   ],
   "source": [
    "df.idxmax()"
   ]
  },
  {
   "cell_type": "code",
   "execution_count": 271,
   "id": "6a0e9318",
   "metadata": {
    "hidden": true
   },
   "outputs": [
    {
     "data": {
      "text/plain": [
       "Open        2019-01-03\n",
       "High        2019-01-03\n",
       "Low         2019-01-03\n",
       "Close       2019-01-03\n",
       "Adj Close   2019-01-03\n",
       "Volume      2021-11-11\n",
       "dtype: datetime64[ns]"
      ]
     },
     "execution_count": 271,
     "metadata": {},
     "output_type": "execute_result"
    }
   ],
   "source": [
    "df.idxmin()"
   ]
  },
  {
   "cell_type": "code",
   "execution_count": 272,
   "id": "578d01be",
   "metadata": {
    "hidden": true
   },
   "outputs": [
    {
     "data": {
      "text/plain": [
       "Timestamp('2019-01-02 00:00:00')"
      ]
     },
     "execution_count": 272,
     "metadata": {},
     "output_type": "execute_result"
    }
   ],
   "source": [
    "df.index.min()"
   ]
  },
  {
   "cell_type": "code",
   "execution_count": 273,
   "id": "9065d9ad",
   "metadata": {
    "hidden": true
   },
   "outputs": [
    {
     "data": {
      "text/plain": [
       "Timestamp('2022-08-29 00:00:00')"
      ]
     },
     "execution_count": 273,
     "metadata": {},
     "output_type": "execute_result"
    }
   ],
   "source": [
    "df.index.max()"
   ]
  },
  {
   "cell_type": "markdown",
   "id": "aa76eee2",
   "metadata": {
    "hidden": true
   },
   "source": [
    "Now, let's resample our data. \n",
    "\n",
    "When calling **resample()** we first need to pass in a *rule* parameter, then we need to call an aggregation function. *rule* parameter describes the frequency with which to apply the aggregation function (daily, monthly, yearly, etc.)"
   ]
  },
  {
   "cell_type": "markdown",
   "id": "71541b45",
   "metadata": {
    "hidden": true
   },
   "source": [
    "Now we will get mean of all data yearly based."
   ]
  },
  {
   "cell_type": "code",
   "execution_count": 274,
   "id": "dd5b6329",
   "metadata": {
    "hidden": true
   },
   "outputs": [
    {
     "data": {
      "text/html": [
       "<div>\n",
       "<style scoped>\n",
       "    .dataframe tbody tr th:only-of-type {\n",
       "        vertical-align: middle;\n",
       "    }\n",
       "\n",
       "    .dataframe tbody tr th {\n",
       "        vertical-align: top;\n",
       "    }\n",
       "\n",
       "    .dataframe thead th {\n",
       "        text-align: right;\n",
       "    }\n",
       "</style>\n",
       "<table border=\"1\" class=\"dataframe\">\n",
       "  <thead>\n",
       "    <tr style=\"text-align: right;\">\n",
       "      <th></th>\n",
       "      <th>Open</th>\n",
       "      <th>High</th>\n",
       "      <th>Low</th>\n",
       "      <th>Close</th>\n",
       "      <th>Adj Close</th>\n",
       "      <th>Volume</th>\n",
       "    </tr>\n",
       "    <tr>\n",
       "      <th>Date</th>\n",
       "      <th></th>\n",
       "      <th></th>\n",
       "      <th></th>\n",
       "      <th></th>\n",
       "      <th></th>\n",
       "      <th></th>\n",
       "    </tr>\n",
       "  </thead>\n",
       "  <tbody>\n",
       "    <tr>\n",
       "      <th>2019-01-01</th>\n",
       "      <td>51.967272</td>\n",
       "      <td>52.457927</td>\n",
       "      <td>51.567907</td>\n",
       "      <td>52.063988</td>\n",
       "      <td>50.786468</td>\n",
       "      <td>1.121228e+08</td>\n",
       "    </tr>\n",
       "    <tr>\n",
       "      <th>2020-01-01</th>\n",
       "      <td>95.267668</td>\n",
       "      <td>96.661769</td>\n",
       "      <td>93.912796</td>\n",
       "      <td>95.347075</td>\n",
       "      <td>94.072188</td>\n",
       "      <td>1.575646e+08</td>\n",
       "    </tr>\n",
       "    <tr>\n",
       "      <th>2021-01-01</th>\n",
       "      <td>140.861866</td>\n",
       "      <td>142.347818</td>\n",
       "      <td>139.474087</td>\n",
       "      <td>140.989365</td>\n",
       "      <td>140.032756</td>\n",
       "      <td>9.052463e+07</td>\n",
       "    </tr>\n",
       "    <tr>\n",
       "      <th>2022-01-01</th>\n",
       "      <td>159.437576</td>\n",
       "      <td>161.601454</td>\n",
       "      <td>157.420121</td>\n",
       "      <td>159.581879</td>\n",
       "      <td>159.226604</td>\n",
       "      <td>8.815495e+07</td>\n",
       "    </tr>\n",
       "  </tbody>\n",
       "</table>\n",
       "</div>"
      ],
      "text/plain": [
       "                  Open        High         Low       Close   Adj Close        Volume\n",
       "Date                                                                                \n",
       "2019-01-01  51.967272   52.457927   51.567907   52.063988   50.786468   1.121228e+08\n",
       "2020-01-01  95.267668   96.661769   93.912796   95.347075   94.072188   1.575646e+08\n",
       "2021-01-01  140.861866  142.347818  139.474087  140.989365  140.032756  9.052463e+07\n",
       "2022-01-01  159.437576  161.601454  157.420121  159.581879  159.226604  8.815495e+07"
      ]
     },
     "execution_count": 274,
     "metadata": {},
     "output_type": "execute_result"
    }
   ],
   "source": [
    "df.resample(rule='AS').mean() # AS means year start frequency in aliases."
   ]
  },
  {
   "cell_type": "markdown",
   "id": "67412a2c",
   "metadata": {
    "hidden": true
   },
   "source": [
    "We can also write custom resampling functions. In this function, we will get the mean value of the first 30 days."
   ]
  },
  {
   "cell_type": "code",
   "execution_count": 275,
   "id": "d3ebc9a2",
   "metadata": {
    "hidden": true
   },
   "outputs": [],
   "source": [
    "def first_30_days(df):\n",
    "    if len(df) >0:\n",
    "        return df[:30].mean()"
   ]
  },
  {
   "cell_type": "code",
   "execution_count": 276,
   "id": "33108492",
   "metadata": {
    "hidden": true
   },
   "outputs": [
    {
     "data": {
      "text/html": [
       "<div>\n",
       "<style scoped>\n",
       "    .dataframe tbody tr th:only-of-type {\n",
       "        vertical-align: middle;\n",
       "    }\n",
       "\n",
       "    .dataframe tbody tr th {\n",
       "        vertical-align: top;\n",
       "    }\n",
       "\n",
       "    .dataframe thead th {\n",
       "        text-align: right;\n",
       "    }\n",
       "</style>\n",
       "<table border=\"1\" class=\"dataframe\">\n",
       "  <thead>\n",
       "    <tr style=\"text-align: right;\">\n",
       "      <th></th>\n",
       "      <th>Open</th>\n",
       "      <th>High</th>\n",
       "      <th>Low</th>\n",
       "      <th>Close</th>\n",
       "      <th>Adj Close</th>\n",
       "      <th>Volume</th>\n",
       "    </tr>\n",
       "    <tr>\n",
       "      <th>Date</th>\n",
       "      <th></th>\n",
       "      <th></th>\n",
       "      <th></th>\n",
       "      <th></th>\n",
       "      <th></th>\n",
       "      <th></th>\n",
       "    </tr>\n",
       "  </thead>\n",
       "  <tbody>\n",
       "    <tr>\n",
       "      <th>2019-12-31</th>\n",
       "      <td>39.679917</td>\n",
       "      <td>40.139334</td>\n",
       "      <td>39.307833</td>\n",
       "      <td>39.796083</td>\n",
       "      <td>38.497458</td>\n",
       "      <td>1.437228e+08</td>\n",
       "    </tr>\n",
       "    <tr>\n",
       "      <th>2020-12-31</th>\n",
       "      <td>78.384167</td>\n",
       "      <td>79.218749</td>\n",
       "      <td>77.799167</td>\n",
       "      <td>78.647250</td>\n",
       "      <td>77.208065</td>\n",
       "      <td>1.332954e+08</td>\n",
       "    </tr>\n",
       "    <tr>\n",
       "      <th>2021-12-31</th>\n",
       "      <td>134.089334</td>\n",
       "      <td>135.612335</td>\n",
       "      <td>132.120666</td>\n",
       "      <td>133.897334</td>\n",
       "      <td>132.575307</td>\n",
       "      <td>1.035228e+08</td>\n",
       "    </tr>\n",
       "    <tr>\n",
       "      <th>2022-12-31</th>\n",
       "      <td>171.114333</td>\n",
       "      <td>173.137000</td>\n",
       "      <td>168.821999</td>\n",
       "      <td>170.846000</td>\n",
       "      <td>170.192899</td>\n",
       "      <td>9.835151e+07</td>\n",
       "    </tr>\n",
       "  </tbody>\n",
       "</table>\n",
       "</div>"
      ],
      "text/plain": [
       "                  Open        High         Low       Close   Adj Close        Volume\n",
       "Date                                                                                \n",
       "2019-12-31  39.679917   40.139334   39.307833   39.796083   38.497458   1.437228e+08\n",
       "2020-12-31  78.384167   79.218749   77.799167   78.647250   77.208065   1.332954e+08\n",
       "2021-12-31  134.089334  135.612335  132.120666  133.897334  132.575307  1.035228e+08\n",
       "2022-12-31  171.114333  173.137000  168.821999  170.846000  170.192899  9.835151e+07"
      ]
     },
     "execution_count": 276,
     "metadata": {},
     "output_type": "execute_result"
    }
   ],
   "source": [
    "df.resample(rule = \"A\").apply(first_30_days)"
   ]
  },
  {
   "cell_type": "markdown",
   "id": "0ee2e1b4",
   "metadata": {
    "hidden": true
   },
   "source": [
    "Let's check it also manually for 2019."
   ]
  },
  {
   "cell_type": "code",
   "execution_count": 277,
   "id": "1b9f5435",
   "metadata": {
    "hidden": true
   },
   "outputs": [
    {
     "data": {
      "text/html": [
       "<div>\n",
       "<style scoped>\n",
       "    .dataframe tbody tr th:only-of-type {\n",
       "        vertical-align: middle;\n",
       "    }\n",
       "\n",
       "    .dataframe tbody tr th {\n",
       "        vertical-align: top;\n",
       "    }\n",
       "\n",
       "    .dataframe thead th {\n",
       "        text-align: right;\n",
       "    }\n",
       "</style>\n",
       "<table border=\"1\" class=\"dataframe\">\n",
       "  <thead>\n",
       "    <tr style=\"text-align: right;\">\n",
       "      <th></th>\n",
       "      <th>0</th>\n",
       "    </tr>\n",
       "  </thead>\n",
       "  <tbody>\n",
       "    <tr>\n",
       "      <th>Open</th>\n",
       "      <td>3.967992e+01</td>\n",
       "    </tr>\n",
       "    <tr>\n",
       "      <th>High</th>\n",
       "      <td>4.013933e+01</td>\n",
       "    </tr>\n",
       "    <tr>\n",
       "      <th>Low</th>\n",
       "      <td>3.930783e+01</td>\n",
       "    </tr>\n",
       "    <tr>\n",
       "      <th>Close</th>\n",
       "      <td>3.979608e+01</td>\n",
       "    </tr>\n",
       "    <tr>\n",
       "      <th>Adj Close</th>\n",
       "      <td>3.849746e+01</td>\n",
       "    </tr>\n",
       "    <tr>\n",
       "      <th>Volume</th>\n",
       "      <td>1.437228e+08</td>\n",
       "    </tr>\n",
       "  </tbody>\n",
       "</table>\n",
       "</div>"
      ],
      "text/plain": [
       "                      0\n",
       "Open       3.967992e+01\n",
       "High       4.013933e+01\n",
       "Low        3.930783e+01\n",
       "Close      3.979608e+01\n",
       "Adj Close  3.849746e+01\n",
       "Volume     1.437228e+08"
      ]
     },
     "execution_count": 277,
     "metadata": {},
     "output_type": "execute_result"
    }
   ],
   "source": [
    "pd.DataFrame(df[:30].mean())"
   ]
  },
  {
   "cell_type": "markdown",
   "id": "4ebdad71",
   "metadata": {
    "hidden": true
   },
   "source": [
    "As it can be seen, values seem the same."
   ]
  },
  {
   "cell_type": "markdown",
   "id": "7e8de4c6",
   "metadata": {
    "hidden": true
   },
   "source": [
    "***\n",
    "\n",
    "We also can create amazing plots with resampling."
   ]
  },
  {
   "cell_type": "code",
   "execution_count": 278,
   "id": "2024ac28",
   "metadata": {
    "hidden": true
   },
   "outputs": [
    {
     "data": {
      "image/png": "[encoded data removed]",
      "text/plain": [
       "<Figure size 432x288 with 1 Axes>"
      ]
     },
     "metadata": {
      "needs_background": "light"
     },
     "output_type": "display_data"
    }
   ],
   "source": [
    "df['High'].resample('As').mean().plot.bar(title='Yearly Mean Highest Price for Apple');"
   ]
  },
  {
   "cell_type": "code",
   "execution_count": 279,
   "id": "82c205bb",
   "metadata": {
    "hidden": true
   },
   "outputs": [
    {
     "data": {
      "image/png": "[encoded data removed]",
      "text/plain": [
       "<Figure size 1152x432 with 1 Axes>"
      ]
     },
     "metadata": {
      "needs_background": "light"
     },
     "output_type": "display_data"
    }
   ],
   "source": [
    "title = 'Quarter Min Opening Price for Apple'\n",
    "df['Open'].resample('QS').min().plot.bar(figsize=(16,6), title=title,color='red');"
   ]
  },
  {
   "cell_type": "markdown",
   "id": "a461c52b",
   "metadata": {
    "heading_collapsed": true
   },
   "source": [
    "# Time Shifting"
   ]
  },
  {
   "cell_type": "markdown",
   "id": "2e7e7cf0",
   "metadata": {
    "hidden": true
   },
   "source": [
    "We may need to shift all our data up or down along the time series index. It's good to have knowledge about it."
   ]
  },
  {
   "cell_type": "markdown",
   "id": "f3f8f687",
   "metadata": {
    "hidden": true
   },
   "source": [
    "We will continue with our Apple stock data."
   ]
  },
  {
   "cell_type": "code",
   "execution_count": 280,
   "id": "2360cbf0",
   "metadata": {
    "hidden": true
   },
   "outputs": [
    {
     "data": {
      "text/html": [
       "<div>\n",
       "<style scoped>\n",
       "    .dataframe tbody tr th:only-of-type {\n",
       "        vertical-align: middle;\n",
       "    }\n",
       "\n",
       "    .dataframe tbody tr th {\n",
       "        vertical-align: top;\n",
       "    }\n",
       "\n",
       "    .dataframe thead th {\n",
       "        text-align: right;\n",
       "    }\n",
       "</style>\n",
       "<table border=\"1\" class=\"dataframe\">\n",
       "  <thead>\n",
       "    <tr style=\"text-align: right;\">\n",
       "      <th></th>\n",
       "      <th>Open</th>\n",
       "      <th>High</th>\n",
       "      <th>Low</th>\n",
       "      <th>Close</th>\n",
       "      <th>Adj Close</th>\n",
       "      <th>Volume</th>\n",
       "    </tr>\n",
       "    <tr>\n",
       "      <th>Date</th>\n",
       "      <th></th>\n",
       "      <th></th>\n",
       "      <th></th>\n",
       "      <th></th>\n",
       "      <th></th>\n",
       "      <th></th>\n",
       "    </tr>\n",
       "  </thead>\n",
       "  <tbody>\n",
       "    <tr>\n",
       "      <th>2019-01-02</th>\n",
       "      <td>38.722500</td>\n",
       "      <td>39.712502</td>\n",
       "      <td>38.557499</td>\n",
       "      <td>39.480000</td>\n",
       "      <td>38.168346</td>\n",
       "      <td>148158800</td>\n",
       "    </tr>\n",
       "    <tr>\n",
       "      <th>2019-01-03</th>\n",
       "      <td>35.994999</td>\n",
       "      <td>36.430000</td>\n",
       "      <td>35.500000</td>\n",
       "      <td>35.547501</td>\n",
       "      <td>34.366497</td>\n",
       "      <td>365248800</td>\n",
       "    </tr>\n",
       "    <tr>\n",
       "      <th>2019-01-04</th>\n",
       "      <td>36.132500</td>\n",
       "      <td>37.137501</td>\n",
       "      <td>35.950001</td>\n",
       "      <td>37.064999</td>\n",
       "      <td>35.833580</td>\n",
       "      <td>234428400</td>\n",
       "    </tr>\n",
       "    <tr>\n",
       "      <th>2019-01-07</th>\n",
       "      <td>37.174999</td>\n",
       "      <td>37.207500</td>\n",
       "      <td>36.474998</td>\n",
       "      <td>36.982498</td>\n",
       "      <td>35.753822</td>\n",
       "      <td>219111200</td>\n",
       "    </tr>\n",
       "    <tr>\n",
       "      <th>2019-01-08</th>\n",
       "      <td>37.389999</td>\n",
       "      <td>37.955002</td>\n",
       "      <td>37.130001</td>\n",
       "      <td>37.687500</td>\n",
       "      <td>36.435398</td>\n",
       "      <td>164101200</td>\n",
       "    </tr>\n",
       "  </tbody>\n",
       "</table>\n",
       "</div>"
      ],
      "text/plain": [
       "                 Open       High        Low      Close  Adj Close     Volume\n",
       "Date                                                                        \n",
       "2019-01-02  38.722500  39.712502  38.557499  39.480000  38.168346  148158800\n",
       "2019-01-03  35.994999  36.430000  35.500000  35.547501  34.366497  365248800\n",
       "2019-01-04  36.132500  37.137501  35.950001  37.064999  35.833580  234428400\n",
       "2019-01-07  37.174999  37.207500  36.474998  36.982498  35.753822  219111200\n",
       "2019-01-08  37.389999  37.955002  37.130001  37.687500  36.435398  164101200"
      ]
     },
     "execution_count": 280,
     "metadata": {},
     "output_type": "execute_result"
    }
   ],
   "source": [
    "df.head()"
   ]
  },
  {
   "cell_type": "markdown",
   "id": "993ea64a",
   "metadata": {
    "hidden": true
   },
   "source": [
    "**shift()** function shifts index by desired number of periods with an optional time freq. All details can be found [here](https://pandas.pydata.org/docs/reference/api/pandas.DataFrame.shift.html)."
   ]
  },
  {
   "cell_type": "code",
   "execution_count": 282,
   "id": "12a88026",
   "metadata": {
    "hidden": true
   },
   "outputs": [
    {
     "data": {
      "text/html": [
       "<div>\n",
       "<style scoped>\n",
       "    .dataframe tbody tr th:only-of-type {\n",
       "        vertical-align: middle;\n",
       "    }\n",
       "\n",
       "    .dataframe tbody tr th {\n",
       "        vertical-align: top;\n",
       "    }\n",
       "\n",
       "    .dataframe thead th {\n",
       "        text-align: right;\n",
       "    }\n",
       "</style>\n",
       "<table border=\"1\" class=\"dataframe\">\n",
       "  <thead>\n",
       "    <tr style=\"text-align: right;\">\n",
       "      <th></th>\n",
       "      <th>Open</th>\n",
       "      <th>High</th>\n",
       "      <th>Low</th>\n",
       "      <th>Close</th>\n",
       "      <th>Adj Close</th>\n",
       "      <th>Volume</th>\n",
       "    </tr>\n",
       "    <tr>\n",
       "      <th>Date</th>\n",
       "      <th></th>\n",
       "      <th></th>\n",
       "      <th></th>\n",
       "      <th></th>\n",
       "      <th></th>\n",
       "      <th></th>\n",
       "    </tr>\n",
       "  </thead>\n",
       "  <tbody>\n",
       "    <tr>\n",
       "      <th>2019-01-02</th>\n",
       "      <td>NaN</td>\n",
       "      <td>NaN</td>\n",
       "      <td>NaN</td>\n",
       "      <td>NaN</td>\n",
       "      <td>NaN</td>\n",
       "      <td>NaN</td>\n",
       "    </tr>\n",
       "    <tr>\n",
       "      <th>2019-01-03</th>\n",
       "      <td>NaN</td>\n",
       "      <td>NaN</td>\n",
       "      <td>NaN</td>\n",
       "      <td>NaN</td>\n",
       "      <td>NaN</td>\n",
       "      <td>NaN</td>\n",
       "    </tr>\n",
       "    <tr>\n",
       "      <th>2019-01-04</th>\n",
       "      <td>38.722500</td>\n",
       "      <td>39.712502</td>\n",
       "      <td>38.557499</td>\n",
       "      <td>39.480000</td>\n",
       "      <td>38.168346</td>\n",
       "      <td>148158800.0</td>\n",
       "    </tr>\n",
       "    <tr>\n",
       "      <th>2019-01-07</th>\n",
       "      <td>35.994999</td>\n",
       "      <td>36.430000</td>\n",
       "      <td>35.500000</td>\n",
       "      <td>35.547501</td>\n",
       "      <td>34.366497</td>\n",
       "      <td>365248800.0</td>\n",
       "    </tr>\n",
       "    <tr>\n",
       "      <th>2019-01-08</th>\n",
       "      <td>36.132500</td>\n",
       "      <td>37.137501</td>\n",
       "      <td>35.950001</td>\n",
       "      <td>37.064999</td>\n",
       "      <td>35.833580</td>\n",
       "      <td>234428400.0</td>\n",
       "    </tr>\n",
       "  </tbody>\n",
       "</table>\n",
       "</div>"
      ],
      "text/plain": [
       "                 Open       High        Low      Close  Adj Close       Volume\n",
       "Date                                                                          \n",
       "2019-01-02 NaN        NaN        NaN        NaN        NaN        NaN         \n",
       "2019-01-03 NaN        NaN        NaN        NaN        NaN        NaN         \n",
       "2019-01-04  38.722500  39.712502  38.557499  39.480000  38.168346  148158800.0\n",
       "2019-01-07  35.994999  36.430000  35.500000  35.547501  34.366497  365248800.0\n",
       "2019-01-08  36.132500  37.137501  35.950001  37.064999  35.833580  234428400.0"
      ]
     },
     "execution_count": 282,
     "metadata": {},
     "output_type": "execute_result"
    }
   ],
   "source": [
    "df.shift(periods=2).head()"
   ]
  },
  {
   "cell_type": "code",
   "execution_count": 283,
   "id": "10899621",
   "metadata": {
    "hidden": true
   },
   "outputs": [
    {
     "data": {
      "text/html": [
       "<div>\n",
       "<style scoped>\n",
       "    .dataframe tbody tr th:only-of-type {\n",
       "        vertical-align: middle;\n",
       "    }\n",
       "\n",
       "    .dataframe tbody tr th {\n",
       "        vertical-align: top;\n",
       "    }\n",
       "\n",
       "    .dataframe thead th {\n",
       "        text-align: right;\n",
       "    }\n",
       "</style>\n",
       "<table border=\"1\" class=\"dataframe\">\n",
       "  <thead>\n",
       "    <tr style=\"text-align: right;\">\n",
       "      <th></th>\n",
       "      <th>Open</th>\n",
       "      <th>High</th>\n",
       "      <th>Low</th>\n",
       "      <th>Close</th>\n",
       "      <th>Adj Close</th>\n",
       "      <th>Volume</th>\n",
       "    </tr>\n",
       "    <tr>\n",
       "      <th>Date</th>\n",
       "      <th></th>\n",
       "      <th></th>\n",
       "      <th></th>\n",
       "      <th></th>\n",
       "      <th></th>\n",
       "      <th></th>\n",
       "    </tr>\n",
       "  </thead>\n",
       "  <tbody>\n",
       "    <tr>\n",
       "      <th>2022-08-23</th>\n",
       "      <td>173.029999</td>\n",
       "      <td>173.740005</td>\n",
       "      <td>171.309998</td>\n",
       "      <td>171.520004</td>\n",
       "      <td>171.520004</td>\n",
       "      <td>70211500.0</td>\n",
       "    </tr>\n",
       "    <tr>\n",
       "      <th>2022-08-24</th>\n",
       "      <td>169.690002</td>\n",
       "      <td>169.860001</td>\n",
       "      <td>167.139999</td>\n",
       "      <td>167.570007</td>\n",
       "      <td>167.570007</td>\n",
       "      <td>69026800.0</td>\n",
       "    </tr>\n",
       "    <tr>\n",
       "      <th>2022-08-25</th>\n",
       "      <td>167.080002</td>\n",
       "      <td>168.710007</td>\n",
       "      <td>166.649994</td>\n",
       "      <td>167.229996</td>\n",
       "      <td>167.229996</td>\n",
       "      <td>54147100.0</td>\n",
       "    </tr>\n",
       "    <tr>\n",
       "      <th>2022-08-26</th>\n",
       "      <td>167.320007</td>\n",
       "      <td>168.110001</td>\n",
       "      <td>166.250000</td>\n",
       "      <td>167.529999</td>\n",
       "      <td>167.529999</td>\n",
       "      <td>53841500.0</td>\n",
       "    </tr>\n",
       "    <tr>\n",
       "      <th>2022-08-29</th>\n",
       "      <td>168.779999</td>\n",
       "      <td>170.139999</td>\n",
       "      <td>168.350006</td>\n",
       "      <td>170.029999</td>\n",
       "      <td>170.029999</td>\n",
       "      <td>51218200.0</td>\n",
       "    </tr>\n",
       "  </tbody>\n",
       "</table>\n",
       "</div>"
      ],
      "text/plain": [
       "                  Open        High         Low       Close   Adj Close      Volume\n",
       "Date                                                                              \n",
       "2022-08-23  173.029999  173.740005  171.309998  171.520004  171.520004  70211500.0\n",
       "2022-08-24  169.690002  169.860001  167.139999  167.570007  167.570007  69026800.0\n",
       "2022-08-25  167.080002  168.710007  166.649994  167.229996  167.229996  54147100.0\n",
       "2022-08-26  167.320007  168.110001  166.250000  167.529999  167.529999  53841500.0\n",
       "2022-08-29  168.779999  170.139999  168.350006  170.029999  170.029999  51218200.0"
      ]
     },
     "execution_count": 283,
     "metadata": {},
     "output_type": "execute_result"
    }
   ],
   "source": [
    "df.shift(periods=2).tail()"
   ]
  },
  {
   "cell_type": "code",
   "execution_count": 284,
   "id": "409179e7",
   "metadata": {
    "hidden": true
   },
   "outputs": [
    {
     "data": {
      "text/html": [
       "<div>\n",
       "<style scoped>\n",
       "    .dataframe tbody tr th:only-of-type {\n",
       "        vertical-align: middle;\n",
       "    }\n",
       "\n",
       "    .dataframe tbody tr th {\n",
       "        vertical-align: top;\n",
       "    }\n",
       "\n",
       "    .dataframe thead th {\n",
       "        text-align: right;\n",
       "    }\n",
       "</style>\n",
       "<table border=\"1\" class=\"dataframe\">\n",
       "  <thead>\n",
       "    <tr style=\"text-align: right;\">\n",
       "      <th></th>\n",
       "      <th>Open</th>\n",
       "      <th>High</th>\n",
       "      <th>Low</th>\n",
       "      <th>Close</th>\n",
       "      <th>Adj Close</th>\n",
       "      <th>Volume</th>\n",
       "    </tr>\n",
       "    <tr>\n",
       "      <th>Date</th>\n",
       "      <th></th>\n",
       "      <th></th>\n",
       "      <th></th>\n",
       "      <th></th>\n",
       "      <th></th>\n",
       "      <th></th>\n",
       "    </tr>\n",
       "  </thead>\n",
       "  <tbody>\n",
       "    <tr>\n",
       "      <th>2022-08-23</th>\n",
       "      <td>167.080002</td>\n",
       "      <td>168.710007</td>\n",
       "      <td>166.649994</td>\n",
       "      <td>167.229996</td>\n",
       "      <td>167.229996</td>\n",
       "      <td>54147100</td>\n",
       "    </tr>\n",
       "    <tr>\n",
       "      <th>2022-08-24</th>\n",
       "      <td>167.320007</td>\n",
       "      <td>168.110001</td>\n",
       "      <td>166.250000</td>\n",
       "      <td>167.529999</td>\n",
       "      <td>167.529999</td>\n",
       "      <td>53841500</td>\n",
       "    </tr>\n",
       "    <tr>\n",
       "      <th>2022-08-25</th>\n",
       "      <td>168.779999</td>\n",
       "      <td>170.139999</td>\n",
       "      <td>168.350006</td>\n",
       "      <td>170.029999</td>\n",
       "      <td>170.029999</td>\n",
       "      <td>51218200</td>\n",
       "    </tr>\n",
       "    <tr>\n",
       "      <th>2022-08-26</th>\n",
       "      <td>170.570007</td>\n",
       "      <td>171.050003</td>\n",
       "      <td>163.559998</td>\n",
       "      <td>163.619995</td>\n",
       "      <td>163.619995</td>\n",
       "      <td>78823500</td>\n",
       "    </tr>\n",
       "    <tr>\n",
       "      <th>2022-08-29</th>\n",
       "      <td>161.149994</td>\n",
       "      <td>162.899994</td>\n",
       "      <td>159.820007</td>\n",
       "      <td>161.380005</td>\n",
       "      <td>161.380005</td>\n",
       "      <td>73227700</td>\n",
       "    </tr>\n",
       "  </tbody>\n",
       "</table>\n",
       "</div>"
      ],
      "text/plain": [
       "                  Open        High         Low       Close   Adj Close    Volume\n",
       "Date                                                                            \n",
       "2022-08-23  167.080002  168.710007  166.649994  167.229996  167.229996  54147100\n",
       "2022-08-24  167.320007  168.110001  166.250000  167.529999  167.529999  53841500\n",
       "2022-08-25  168.779999  170.139999  168.350006  170.029999  170.029999  51218200\n",
       "2022-08-26  170.570007  171.050003  163.559998  163.619995  163.619995  78823500\n",
       "2022-08-29  161.149994  162.899994  159.820007  161.380005  161.380005  73227700"
      ]
     },
     "execution_count": 284,
     "metadata": {},
     "output_type": "execute_result"
    }
   ],
   "source": [
    "df.tail()"
   ]
  },
  {
   "cell_type": "markdown",
   "id": "74009e25",
   "metadata": {
    "hidden": true
   },
   "source": [
    "As you can recognize, we will lose that last piece of data that no longer has an index!\n",
    "\n",
    "We can also do shifting backwards."
   ]
  },
  {
   "cell_type": "code",
   "execution_count": 285,
   "id": "0e775c07",
   "metadata": {
    "hidden": true
   },
   "outputs": [
    {
     "data": {
      "text/html": [
       "<div>\n",
       "<style scoped>\n",
       "    .dataframe tbody tr th:only-of-type {\n",
       "        vertical-align: middle;\n",
       "    }\n",
       "\n",
       "    .dataframe tbody tr th {\n",
       "        vertical-align: top;\n",
       "    }\n",
       "\n",
       "    .dataframe thead th {\n",
       "        text-align: right;\n",
       "    }\n",
       "</style>\n",
       "<table border=\"1\" class=\"dataframe\">\n",
       "  <thead>\n",
       "    <tr style=\"text-align: right;\">\n",
       "      <th></th>\n",
       "      <th>Open</th>\n",
       "      <th>High</th>\n",
       "      <th>Low</th>\n",
       "      <th>Close</th>\n",
       "      <th>Adj Close</th>\n",
       "      <th>Volume</th>\n",
       "    </tr>\n",
       "    <tr>\n",
       "      <th>Date</th>\n",
       "      <th></th>\n",
       "      <th></th>\n",
       "      <th></th>\n",
       "      <th></th>\n",
       "      <th></th>\n",
       "      <th></th>\n",
       "    </tr>\n",
       "  </thead>\n",
       "  <tbody>\n",
       "    <tr>\n",
       "      <th>2019-01-02</th>\n",
       "      <td>37.822498</td>\n",
       "      <td>38.632500</td>\n",
       "      <td>37.407501</td>\n",
       "      <td>38.327499</td>\n",
       "      <td>37.054138</td>\n",
       "      <td>180396400.0</td>\n",
       "    </tr>\n",
       "    <tr>\n",
       "      <th>2019-01-03</th>\n",
       "      <td>38.125000</td>\n",
       "      <td>38.492500</td>\n",
       "      <td>37.715000</td>\n",
       "      <td>38.450001</td>\n",
       "      <td>37.172573</td>\n",
       "      <td>143122800.0</td>\n",
       "    </tr>\n",
       "    <tr>\n",
       "      <th>2019-01-04</th>\n",
       "      <td>38.220001</td>\n",
       "      <td>38.424999</td>\n",
       "      <td>37.877499</td>\n",
       "      <td>38.072498</td>\n",
       "      <td>36.807606</td>\n",
       "      <td>108092800.0</td>\n",
       "    </tr>\n",
       "    <tr>\n",
       "      <th>2019-01-07</th>\n",
       "      <td>37.712502</td>\n",
       "      <td>37.817501</td>\n",
       "      <td>37.305000</td>\n",
       "      <td>37.500000</td>\n",
       "      <td>36.254131</td>\n",
       "      <td>129756800.0</td>\n",
       "    </tr>\n",
       "    <tr>\n",
       "      <th>2019-01-08</th>\n",
       "      <td>37.567501</td>\n",
       "      <td>38.347500</td>\n",
       "      <td>37.512501</td>\n",
       "      <td>38.267502</td>\n",
       "      <td>36.996136</td>\n",
       "      <td>114843600.0</td>\n",
       "    </tr>\n",
       "  </tbody>\n",
       "</table>\n",
       "</div>"
      ],
      "text/plain": [
       "                 Open       High        Low      Close  Adj Close       Volume\n",
       "Date                                                                          \n",
       "2019-01-02  37.822498  38.632500  37.407501  38.327499  37.054138  180396400.0\n",
       "2019-01-03  38.125000  38.492500  37.715000  38.450001  37.172573  143122800.0\n",
       "2019-01-04  38.220001  38.424999  37.877499  38.072498  36.807606  108092800.0\n",
       "2019-01-07  37.712502  37.817501  37.305000  37.500000  36.254131  129756800.0\n",
       "2019-01-08  37.567501  38.347500  37.512501  38.267502  36.996136  114843600.0"
      ]
     },
     "execution_count": 285,
     "metadata": {},
     "output_type": "execute_result"
    }
   ],
   "source": [
    "df.shift(-5).head()"
   ]
  },
  {
   "cell_type": "code",
   "execution_count": 286,
   "id": "9149788d",
   "metadata": {
    "hidden": true
   },
   "outputs": [
    {
     "data": {
      "text/html": [
       "<div>\n",
       "<style scoped>\n",
       "    .dataframe tbody tr th:only-of-type {\n",
       "        vertical-align: middle;\n",
       "    }\n",
       "\n",
       "    .dataframe tbody tr th {\n",
       "        vertical-align: top;\n",
       "    }\n",
       "\n",
       "    .dataframe thead th {\n",
       "        text-align: right;\n",
       "    }\n",
       "</style>\n",
       "<table border=\"1\" class=\"dataframe\">\n",
       "  <thead>\n",
       "    <tr style=\"text-align: right;\">\n",
       "      <th></th>\n",
       "      <th>Open</th>\n",
       "      <th>High</th>\n",
       "      <th>Low</th>\n",
       "      <th>Close</th>\n",
       "      <th>Adj Close</th>\n",
       "      <th>Volume</th>\n",
       "    </tr>\n",
       "    <tr>\n",
       "      <th>Date</th>\n",
       "      <th></th>\n",
       "      <th></th>\n",
       "      <th></th>\n",
       "      <th></th>\n",
       "      <th></th>\n",
       "      <th></th>\n",
       "    </tr>\n",
       "  </thead>\n",
       "  <tbody>\n",
       "    <tr>\n",
       "      <th>2022-08-16</th>\n",
       "      <td>167.080002</td>\n",
       "      <td>168.710007</td>\n",
       "      <td>166.649994</td>\n",
       "      <td>167.229996</td>\n",
       "      <td>167.229996</td>\n",
       "      <td>54147100.0</td>\n",
       "    </tr>\n",
       "    <tr>\n",
       "      <th>2022-08-17</th>\n",
       "      <td>167.320007</td>\n",
       "      <td>168.110001</td>\n",
       "      <td>166.250000</td>\n",
       "      <td>167.529999</td>\n",
       "      <td>167.529999</td>\n",
       "      <td>53841500.0</td>\n",
       "    </tr>\n",
       "    <tr>\n",
       "      <th>2022-08-18</th>\n",
       "      <td>168.779999</td>\n",
       "      <td>170.139999</td>\n",
       "      <td>168.350006</td>\n",
       "      <td>170.029999</td>\n",
       "      <td>170.029999</td>\n",
       "      <td>51218200.0</td>\n",
       "    </tr>\n",
       "    <tr>\n",
       "      <th>2022-08-19</th>\n",
       "      <td>170.570007</td>\n",
       "      <td>171.050003</td>\n",
       "      <td>163.559998</td>\n",
       "      <td>163.619995</td>\n",
       "      <td>163.619995</td>\n",
       "      <td>78823500.0</td>\n",
       "    </tr>\n",
       "    <tr>\n",
       "      <th>2022-08-22</th>\n",
       "      <td>161.149994</td>\n",
       "      <td>162.899994</td>\n",
       "      <td>159.820007</td>\n",
       "      <td>161.380005</td>\n",
       "      <td>161.380005</td>\n",
       "      <td>73227700.0</td>\n",
       "    </tr>\n",
       "    <tr>\n",
       "      <th>2022-08-23</th>\n",
       "      <td>NaN</td>\n",
       "      <td>NaN</td>\n",
       "      <td>NaN</td>\n",
       "      <td>NaN</td>\n",
       "      <td>NaN</td>\n",
       "      <td>NaN</td>\n",
       "    </tr>\n",
       "    <tr>\n",
       "      <th>2022-08-24</th>\n",
       "      <td>NaN</td>\n",
       "      <td>NaN</td>\n",
       "      <td>NaN</td>\n",
       "      <td>NaN</td>\n",
       "      <td>NaN</td>\n",
       "      <td>NaN</td>\n",
       "    </tr>\n",
       "    <tr>\n",
       "      <th>2022-08-25</th>\n",
       "      <td>NaN</td>\n",
       "      <td>NaN</td>\n",
       "      <td>NaN</td>\n",
       "      <td>NaN</td>\n",
       "      <td>NaN</td>\n",
       "      <td>NaN</td>\n",
       "    </tr>\n",
       "    <tr>\n",
       "      <th>2022-08-26</th>\n",
       "      <td>NaN</td>\n",
       "      <td>NaN</td>\n",
       "      <td>NaN</td>\n",
       "      <td>NaN</td>\n",
       "      <td>NaN</td>\n",
       "      <td>NaN</td>\n",
       "    </tr>\n",
       "    <tr>\n",
       "      <th>2022-08-29</th>\n",
       "      <td>NaN</td>\n",
       "      <td>NaN</td>\n",
       "      <td>NaN</td>\n",
       "      <td>NaN</td>\n",
       "      <td>NaN</td>\n",
       "      <td>NaN</td>\n",
       "    </tr>\n",
       "  </tbody>\n",
       "</table>\n",
       "</div>"
      ],
      "text/plain": [
       "                  Open        High         Low       Close   Adj Close      Volume\n",
       "Date                                                                              \n",
       "2022-08-16  167.080002  168.710007  166.649994  167.229996  167.229996  54147100.0\n",
       "2022-08-17  167.320007  168.110001  166.250000  167.529999  167.529999  53841500.0\n",
       "2022-08-18  168.779999  170.139999  168.350006  170.029999  170.029999  51218200.0\n",
       "2022-08-19  170.570007  171.050003  163.559998  163.619995  163.619995  78823500.0\n",
       "2022-08-22  161.149994  162.899994  159.820007  161.380005  161.380005  73227700.0\n",
       "2022-08-23 NaN         NaN         NaN         NaN         NaN         NaN        \n",
       "2022-08-24 NaN         NaN         NaN         NaN         NaN         NaN        \n",
       "2022-08-25 NaN         NaN         NaN         NaN         NaN         NaN        \n",
       "2022-08-26 NaN         NaN         NaN         NaN         NaN         NaN        \n",
       "2022-08-29 NaN         NaN         NaN         NaN         NaN         NaN        "
      ]
     },
     "execution_count": 286,
     "metadata": {},
     "output_type": "execute_result"
    }
   ],
   "source": [
    "df.shift(-5).tail(10)"
   ]
  },
  {
   "cell_type": "markdown",
   "id": "4d3e368f",
   "metadata": {
    "hidden": true
   },
   "source": [
    "We can choose to shift index values up or down without realigning the data by passing in a freq argument.\n",
    "This method shifts dates to the next period based on a frequency code. Common codes are 'M' for month-end and 'A' for year-end."
   ]
  },
  {
   "cell_type": "code",
   "execution_count": 287,
   "id": "9763a17e",
   "metadata": {
    "hidden": true
   },
   "outputs": [
    {
     "data": {
      "text/html": [
       "<div>\n",
       "<style scoped>\n",
       "    .dataframe tbody tr th:only-of-type {\n",
       "        vertical-align: middle;\n",
       "    }\n",
       "\n",
       "    .dataframe tbody tr th {\n",
       "        vertical-align: top;\n",
       "    }\n",
       "\n",
       "    .dataframe thead th {\n",
       "        text-align: right;\n",
       "    }\n",
       "</style>\n",
       "<table border=\"1\" class=\"dataframe\">\n",
       "  <thead>\n",
       "    <tr style=\"text-align: right;\">\n",
       "      <th></th>\n",
       "      <th>Open</th>\n",
       "      <th>High</th>\n",
       "      <th>Low</th>\n",
       "      <th>Close</th>\n",
       "      <th>Adj Close</th>\n",
       "      <th>Volume</th>\n",
       "    </tr>\n",
       "    <tr>\n",
       "      <th>Date</th>\n",
       "      <th></th>\n",
       "      <th></th>\n",
       "      <th></th>\n",
       "      <th></th>\n",
       "      <th></th>\n",
       "      <th></th>\n",
       "    </tr>\n",
       "  </thead>\n",
       "  <tbody>\n",
       "    <tr>\n",
       "      <th>2019-12-31</th>\n",
       "      <td>38.722500</td>\n",
       "      <td>39.712502</td>\n",
       "      <td>38.557499</td>\n",
       "      <td>39.480000</td>\n",
       "      <td>38.168346</td>\n",
       "      <td>148158800</td>\n",
       "    </tr>\n",
       "    <tr>\n",
       "      <th>2019-12-31</th>\n",
       "      <td>35.994999</td>\n",
       "      <td>36.430000</td>\n",
       "      <td>35.500000</td>\n",
       "      <td>35.547501</td>\n",
       "      <td>34.366497</td>\n",
       "      <td>365248800</td>\n",
       "    </tr>\n",
       "    <tr>\n",
       "      <th>2019-12-31</th>\n",
       "      <td>36.132500</td>\n",
       "      <td>37.137501</td>\n",
       "      <td>35.950001</td>\n",
       "      <td>37.064999</td>\n",
       "      <td>35.833580</td>\n",
       "      <td>234428400</td>\n",
       "    </tr>\n",
       "    <tr>\n",
       "      <th>2019-12-31</th>\n",
       "      <td>37.174999</td>\n",
       "      <td>37.207500</td>\n",
       "      <td>36.474998</td>\n",
       "      <td>36.982498</td>\n",
       "      <td>35.753822</td>\n",
       "      <td>219111200</td>\n",
       "    </tr>\n",
       "    <tr>\n",
       "      <th>2019-12-31</th>\n",
       "      <td>37.389999</td>\n",
       "      <td>37.955002</td>\n",
       "      <td>37.130001</td>\n",
       "      <td>37.687500</td>\n",
       "      <td>36.435398</td>\n",
       "      <td>164101200</td>\n",
       "    </tr>\n",
       "  </tbody>\n",
       "</table>\n",
       "</div>"
      ],
      "text/plain": [
       "                 Open       High        Low      Close  Adj Close     Volume\n",
       "Date                                                                        \n",
       "2019-12-31  38.722500  39.712502  38.557499  39.480000  38.168346  148158800\n",
       "2019-12-31  35.994999  36.430000  35.500000  35.547501  34.366497  365248800\n",
       "2019-12-31  36.132500  37.137501  35.950001  37.064999  35.833580  234428400\n",
       "2019-12-31  37.174999  37.207500  36.474998  36.982498  35.753822  219111200\n",
       "2019-12-31  37.389999  37.955002  37.130001  37.687500  36.435398  164101200"
      ]
     },
     "execution_count": 287,
     "metadata": {},
     "output_type": "execute_result"
    }
   ],
   "source": [
    "df.shift(periods=1, freq='A').head()"
   ]
  },
  {
   "cell_type": "markdown",
   "id": "f712a845",
   "metadata": {
    "heading_collapsed": true
   },
   "source": [
    "# Rolling and Expanding"
   ]
  },
  {
   "cell_type": "markdown",
   "id": "ab6b150e",
   "metadata": {
    "hidden": true
   },
   "source": [
    "A common process with time series is to create data based off of a rolling mean. The idea is to divide the data into \"windows\" of time, and then calculate an aggregate function for each window. In this way we obtain a simple moving average. Let's look how to do this easily with pandas!"
   ]
  },
  {
   "cell_type": "markdown",
   "id": "bd8e6ef9",
   "metadata": {
    "hidden": true
   },
   "source": [
    "We will continue with our Apple stock data."
   ]
  },
  {
   "cell_type": "code",
   "execution_count": 288,
   "id": "4be6fcf7",
   "metadata": {
    "hidden": true
   },
   "outputs": [
    {
     "data": {
      "text/html": [
       "<div>\n",
       "<style scoped>\n",
       "    .dataframe tbody tr th:only-of-type {\n",
       "        vertical-align: middle;\n",
       "    }\n",
       "\n",
       "    .dataframe tbody tr th {\n",
       "        vertical-align: top;\n",
       "    }\n",
       "\n",
       "    .dataframe thead th {\n",
       "        text-align: right;\n",
       "    }\n",
       "</style>\n",
       "<table border=\"1\" class=\"dataframe\">\n",
       "  <thead>\n",
       "    <tr style=\"text-align: right;\">\n",
       "      <th></th>\n",
       "      <th>Open</th>\n",
       "      <th>High</th>\n",
       "      <th>Low</th>\n",
       "      <th>Close</th>\n",
       "      <th>Adj Close</th>\n",
       "      <th>Volume</th>\n",
       "    </tr>\n",
       "    <tr>\n",
       "      <th>Date</th>\n",
       "      <th></th>\n",
       "      <th></th>\n",
       "      <th></th>\n",
       "      <th></th>\n",
       "      <th></th>\n",
       "      <th></th>\n",
       "    </tr>\n",
       "  </thead>\n",
       "  <tbody>\n",
       "    <tr>\n",
       "      <th>2019-01-02</th>\n",
       "      <td>38.722500</td>\n",
       "      <td>39.712502</td>\n",
       "      <td>38.557499</td>\n",
       "      <td>39.480000</td>\n",
       "      <td>38.168346</td>\n",
       "      <td>148158800</td>\n",
       "    </tr>\n",
       "    <tr>\n",
       "      <th>2019-01-03</th>\n",
       "      <td>35.994999</td>\n",
       "      <td>36.430000</td>\n",
       "      <td>35.500000</td>\n",
       "      <td>35.547501</td>\n",
       "      <td>34.366497</td>\n",
       "      <td>365248800</td>\n",
       "    </tr>\n",
       "    <tr>\n",
       "      <th>2019-01-04</th>\n",
       "      <td>36.132500</td>\n",
       "      <td>37.137501</td>\n",
       "      <td>35.950001</td>\n",
       "      <td>37.064999</td>\n",
       "      <td>35.833580</td>\n",
       "      <td>234428400</td>\n",
       "    </tr>\n",
       "    <tr>\n",
       "      <th>2019-01-07</th>\n",
       "      <td>37.174999</td>\n",
       "      <td>37.207500</td>\n",
       "      <td>36.474998</td>\n",
       "      <td>36.982498</td>\n",
       "      <td>35.753822</td>\n",
       "      <td>219111200</td>\n",
       "    </tr>\n",
       "    <tr>\n",
       "      <th>2019-01-08</th>\n",
       "      <td>37.389999</td>\n",
       "      <td>37.955002</td>\n",
       "      <td>37.130001</td>\n",
       "      <td>37.687500</td>\n",
       "      <td>36.435398</td>\n",
       "      <td>164101200</td>\n",
       "    </tr>\n",
       "  </tbody>\n",
       "</table>\n",
       "</div>"
      ],
      "text/plain": [
       "                 Open       High        Low      Close  Adj Close     Volume\n",
       "Date                                                                        \n",
       "2019-01-02  38.722500  39.712502  38.557499  39.480000  38.168346  148158800\n",
       "2019-01-03  35.994999  36.430000  35.500000  35.547501  34.366497  365248800\n",
       "2019-01-04  36.132500  37.137501  35.950001  37.064999  35.833580  234428400\n",
       "2019-01-07  37.174999  37.207500  36.474998  36.982498  35.753822  219111200\n",
       "2019-01-08  37.389999  37.955002  37.130001  37.687500  36.435398  164101200"
      ]
     },
     "execution_count": 288,
     "metadata": {},
     "output_type": "execute_result"
    }
   ],
   "source": [
    "df.head()"
   ]
  },
  {
   "cell_type": "code",
   "execution_count": 289,
   "id": "54501c3d",
   "metadata": {
    "hidden": true
   },
   "outputs": [
    {
     "data": {
      "image/png": "[encoded data removed]",
      "text/plain": [
       "<Figure size 1080x360 with 1 Axes>"
      ]
     },
     "metadata": {
      "needs_background": "light"
     },
     "output_type": "display_data"
    }
   ],
   "source": [
    "df[\"High\"].plot(figsize=(15,5));"
   ]
  },
  {
   "cell_type": "markdown",
   "id": "99e0ae42",
   "metadata": {
    "hidden": true
   },
   "source": [
    "Now we will calculate rolling mean(moving average) with **rolling()** function."
   ]
  },
  {
   "cell_type": "code",
   "execution_count": 290,
   "id": "ca68bc60",
   "metadata": {
    "hidden": true
   },
   "outputs": [
    {
     "data": {
      "text/html": [
       "<div>\n",
       "<style scoped>\n",
       "    .dataframe tbody tr th:only-of-type {\n",
       "        vertical-align: middle;\n",
       "    }\n",
       "\n",
       "    .dataframe tbody tr th {\n",
       "        vertical-align: top;\n",
       "    }\n",
       "\n",
       "    .dataframe thead th {\n",
       "        text-align: right;\n",
       "    }\n",
       "</style>\n",
       "<table border=\"1\" class=\"dataframe\">\n",
       "  <thead>\n",
       "    <tr style=\"text-align: right;\">\n",
       "      <th></th>\n",
       "      <th>Open</th>\n",
       "      <th>High</th>\n",
       "      <th>Low</th>\n",
       "      <th>Close</th>\n",
       "      <th>Adj Close</th>\n",
       "      <th>Volume</th>\n",
       "    </tr>\n",
       "    <tr>\n",
       "      <th>Date</th>\n",
       "      <th></th>\n",
       "      <th></th>\n",
       "      <th></th>\n",
       "      <th></th>\n",
       "      <th></th>\n",
       "      <th></th>\n",
       "    </tr>\n",
       "  </thead>\n",
       "  <tbody>\n",
       "    <tr>\n",
       "      <th>2019-01-02</th>\n",
       "      <td>NaN</td>\n",
       "      <td>NaN</td>\n",
       "      <td>NaN</td>\n",
       "      <td>NaN</td>\n",
       "      <td>NaN</td>\n",
       "      <td>NaN</td>\n",
       "    </tr>\n",
       "    <tr>\n",
       "      <th>2019-01-03</th>\n",
       "      <td>NaN</td>\n",
       "      <td>NaN</td>\n",
       "      <td>NaN</td>\n",
       "      <td>NaN</td>\n",
       "      <td>NaN</td>\n",
       "      <td>NaN</td>\n",
       "    </tr>\n",
       "    <tr>\n",
       "      <th>2019-01-04</th>\n",
       "      <td>NaN</td>\n",
       "      <td>NaN</td>\n",
       "      <td>NaN</td>\n",
       "      <td>NaN</td>\n",
       "      <td>NaN</td>\n",
       "      <td>NaN</td>\n",
       "    </tr>\n",
       "    <tr>\n",
       "      <th>2019-01-07</th>\n",
       "      <td>NaN</td>\n",
       "      <td>NaN</td>\n",
       "      <td>NaN</td>\n",
       "      <td>NaN</td>\n",
       "      <td>NaN</td>\n",
       "      <td>NaN</td>\n",
       "    </tr>\n",
       "    <tr>\n",
       "      <th>2019-01-08</th>\n",
       "      <td>NaN</td>\n",
       "      <td>NaN</td>\n",
       "      <td>NaN</td>\n",
       "      <td>NaN</td>\n",
       "      <td>NaN</td>\n",
       "      <td>NaN</td>\n",
       "    </tr>\n",
       "    <tr>\n",
       "      <th>2019-01-09</th>\n",
       "      <td>NaN</td>\n",
       "      <td>NaN</td>\n",
       "      <td>NaN</td>\n",
       "      <td>NaN</td>\n",
       "      <td>NaN</td>\n",
       "      <td>NaN</td>\n",
       "    </tr>\n",
       "    <tr>\n",
       "      <th>2019-01-10</th>\n",
       "      <td>37.337499</td>\n",
       "      <td>37.938215</td>\n",
       "      <td>36.962143</td>\n",
       "      <td>37.648571</td>\n",
       "      <td>36.397765</td>\n",
       "      <td>2.077954e+08</td>\n",
       "    </tr>\n",
       "    <tr>\n",
       "      <th>2019-01-11</th>\n",
       "      <td>37.265714</td>\n",
       "      <td>37.754286</td>\n",
       "      <td>36.865000</td>\n",
       "      <td>37.447499</td>\n",
       "      <td>36.203373</td>\n",
       "      <td>2.020717e+08</td>\n",
       "    </tr>\n",
       "    <tr>\n",
       "      <th>2019-01-14</th>\n",
       "      <td>37.511071</td>\n",
       "      <td>37.952500</td>\n",
       "      <td>37.122857</td>\n",
       "      <td>37.726428</td>\n",
       "      <td>36.473035</td>\n",
       "      <td>1.684299e+08</td>\n",
       "    </tr>\n",
       "    <tr>\n",
       "      <th>2019-01-15</th>\n",
       "      <td>37.716071</td>\n",
       "      <td>38.125357</td>\n",
       "      <td>37.346071</td>\n",
       "      <td>37.898214</td>\n",
       "      <td>36.639115</td>\n",
       "      <td>1.513464e+08</td>\n",
       "    </tr>\n",
       "  </tbody>\n",
       "</table>\n",
       "</div>"
      ],
      "text/plain": [
       "                 Open       High        Low      Close  Adj Close        Volume\n",
       "Date                                                                           \n",
       "2019-01-02 NaN        NaN        NaN        NaN        NaN        NaN          \n",
       "2019-01-03 NaN        NaN        NaN        NaN        NaN        NaN          \n",
       "2019-01-04 NaN        NaN        NaN        NaN        NaN        NaN          \n",
       "2019-01-07 NaN        NaN        NaN        NaN        NaN        NaN          \n",
       "2019-01-08 NaN        NaN        NaN        NaN        NaN        NaN          \n",
       "2019-01-09 NaN        NaN        NaN        NaN        NaN        NaN          \n",
       "2019-01-10  37.337499  37.938215  36.962143  37.648571  36.397765  2.077954e+08\n",
       "2019-01-11  37.265714  37.754286  36.865000  37.447499  36.203373  2.020717e+08\n",
       "2019-01-14  37.511071  37.952500  37.122857  37.726428  36.473035  1.684299e+08\n",
       "2019-01-15  37.716071  38.125357  37.346071  37.898214  36.639115  1.513464e+08"
      ]
     },
     "execution_count": 290,
     "metadata": {},
     "output_type": "execute_result"
    }
   ],
   "source": [
    "df.rolling(window=7).mean().head(10)"
   ]
  },
  {
   "cell_type": "markdown",
   "id": "3ed845ff",
   "metadata": {
    "hidden": true
   },
   "source": [
    "The average is calculated after first 7 days."
   ]
  },
  {
   "cell_type": "code",
   "execution_count": 291,
   "id": "bed432e3",
   "metadata": {
    "hidden": true
   },
   "outputs": [
    {
     "data": {
      "image/png": "[encoded data removed]",
      "text/plain": [
       "<Figure size 1080x360 with 1 Axes>"
      ]
     },
     "metadata": {
      "needs_background": "light"
     },
     "output_type": "display_data"
    }
   ],
   "source": [
    "df[\"High\"].plot(figsize=(15,5));\n",
    "df.rolling(window=15).mean()[\"High\"].plot();"
   ]
  },
  {
   "cell_type": "markdown",
   "id": "693e0fd8",
   "metadata": {
    "hidden": true
   },
   "source": [
    "Details about **rolling()** function can be found [here](https://pandas.pydata.org/docs/reference/api/pandas.DataFrame.rolling.html)."
   ]
  },
  {
   "cell_type": "markdown",
   "id": "cac1b5d5",
   "metadata": {
    "hidden": true
   },
   "source": [
    "An expanding window yields the value of an aggregation statistic with all the data available up to that point in time. Since these calculations are a special case of rolling statistics, they are implemented in pandas."
   ]
  },
  {
   "cell_type": "code",
   "execution_count": 292,
   "id": "d0e791c9",
   "metadata": {
    "hidden": true
   },
   "outputs": [
    {
     "data": {
      "text/html": [
       "<div>\n",
       "<style scoped>\n",
       "    .dataframe tbody tr th:only-of-type {\n",
       "        vertical-align: middle;\n",
       "    }\n",
       "\n",
       "    .dataframe tbody tr th {\n",
       "        vertical-align: top;\n",
       "    }\n",
       "\n",
       "    .dataframe thead th {\n",
       "        text-align: right;\n",
       "    }\n",
       "</style>\n",
       "<table border=\"1\" class=\"dataframe\">\n",
       "  <thead>\n",
       "    <tr style=\"text-align: right;\">\n",
       "      <th></th>\n",
       "      <th>Open</th>\n",
       "      <th>High</th>\n",
       "      <th>Low</th>\n",
       "      <th>Close</th>\n",
       "      <th>Adj Close</th>\n",
       "      <th>Volume</th>\n",
       "    </tr>\n",
       "    <tr>\n",
       "      <th>Date</th>\n",
       "      <th></th>\n",
       "      <th></th>\n",
       "      <th></th>\n",
       "      <th></th>\n",
       "      <th></th>\n",
       "      <th></th>\n",
       "    </tr>\n",
       "  </thead>\n",
       "  <tbody>\n",
       "    <tr>\n",
       "      <th>2019-01-02</th>\n",
       "      <td>38.722500</td>\n",
       "      <td>39.712502</td>\n",
       "      <td>38.557499</td>\n",
       "      <td>39.480000</td>\n",
       "      <td>38.168346</td>\n",
       "      <td>1.481588e+08</td>\n",
       "    </tr>\n",
       "    <tr>\n",
       "      <th>2019-01-03</th>\n",
       "      <td>74.717499</td>\n",
       "      <td>76.142502</td>\n",
       "      <td>74.057499</td>\n",
       "      <td>75.027501</td>\n",
       "      <td>72.534843</td>\n",
       "      <td>5.134076e+08</td>\n",
       "    </tr>\n",
       "    <tr>\n",
       "      <th>2019-01-04</th>\n",
       "      <td>110.849999</td>\n",
       "      <td>113.280003</td>\n",
       "      <td>110.007500</td>\n",
       "      <td>112.092500</td>\n",
       "      <td>108.368423</td>\n",
       "      <td>7.478360e+08</td>\n",
       "    </tr>\n",
       "    <tr>\n",
       "      <th>2019-01-07</th>\n",
       "      <td>148.024998</td>\n",
       "      <td>150.487503</td>\n",
       "      <td>146.482498</td>\n",
       "      <td>149.074998</td>\n",
       "      <td>144.122245</td>\n",
       "      <td>9.669472e+08</td>\n",
       "    </tr>\n",
       "    <tr>\n",
       "      <th>2019-01-08</th>\n",
       "      <td>185.414997</td>\n",
       "      <td>188.442505</td>\n",
       "      <td>183.612499</td>\n",
       "      <td>186.762498</td>\n",
       "      <td>180.557643</td>\n",
       "      <td>1.131048e+09</td>\n",
       "    </tr>\n",
       "  </tbody>\n",
       "</table>\n",
       "</div>"
      ],
      "text/plain": [
       "                  Open        High         Low       Close   Adj Close        Volume\n",
       "Date                                                                                \n",
       "2019-01-02  38.722500   39.712502   38.557499   39.480000   38.168346   1.481588e+08\n",
       "2019-01-03  74.717499   76.142502   74.057499   75.027501   72.534843   5.134076e+08\n",
       "2019-01-04  110.849999  113.280003  110.007500  112.092500  108.368423  7.478360e+08\n",
       "2019-01-07  148.024998  150.487503  146.482498  149.074998  144.122245  9.669472e+08\n",
       "2019-01-08  185.414997  188.442505  183.612499  186.762498  180.557643  1.131048e+09"
      ]
     },
     "execution_count": 292,
     "metadata": {},
     "output_type": "execute_result"
    }
   ],
   "source": [
    "df.expanding(1).sum().head()"
   ]
  },
  {
   "cell_type": "markdown",
   "id": "0e790ec4",
   "metadata": {
    "hidden": true
   },
   "source": [
    "It starts to aggregate after first row as you can see because we expand 1 row. Let's do the same for 3."
   ]
  },
  {
   "cell_type": "code",
   "execution_count": 293,
   "id": "32f556e8",
   "metadata": {
    "hidden": true
   },
   "outputs": [
    {
     "data": {
      "text/html": [
       "<div>\n",
       "<style scoped>\n",
       "    .dataframe tbody tr th:only-of-type {\n",
       "        vertical-align: middle;\n",
       "    }\n",
       "\n",
       "    .dataframe tbody tr th {\n",
       "        vertical-align: top;\n",
       "    }\n",
       "\n",
       "    .dataframe thead th {\n",
       "        text-align: right;\n",
       "    }\n",
       "</style>\n",
       "<table border=\"1\" class=\"dataframe\">\n",
       "  <thead>\n",
       "    <tr style=\"text-align: right;\">\n",
       "      <th></th>\n",
       "      <th>Open</th>\n",
       "      <th>High</th>\n",
       "      <th>Low</th>\n",
       "      <th>Close</th>\n",
       "      <th>Adj Close</th>\n",
       "      <th>Volume</th>\n",
       "    </tr>\n",
       "    <tr>\n",
       "      <th>Date</th>\n",
       "      <th></th>\n",
       "      <th></th>\n",
       "      <th></th>\n",
       "      <th></th>\n",
       "      <th></th>\n",
       "      <th></th>\n",
       "    </tr>\n",
       "  </thead>\n",
       "  <tbody>\n",
       "    <tr>\n",
       "      <th>2019-01-02</th>\n",
       "      <td>NaN</td>\n",
       "      <td>NaN</td>\n",
       "      <td>NaN</td>\n",
       "      <td>NaN</td>\n",
       "      <td>NaN</td>\n",
       "      <td>NaN</td>\n",
       "    </tr>\n",
       "    <tr>\n",
       "      <th>2019-01-03</th>\n",
       "      <td>NaN</td>\n",
       "      <td>NaN</td>\n",
       "      <td>NaN</td>\n",
       "      <td>NaN</td>\n",
       "      <td>NaN</td>\n",
       "      <td>NaN</td>\n",
       "    </tr>\n",
       "    <tr>\n",
       "      <th>2019-01-04</th>\n",
       "      <td>110.849999</td>\n",
       "      <td>113.280003</td>\n",
       "      <td>110.007500</td>\n",
       "      <td>112.092500</td>\n",
       "      <td>108.368423</td>\n",
       "      <td>7.478360e+08</td>\n",
       "    </tr>\n",
       "    <tr>\n",
       "      <th>2019-01-07</th>\n",
       "      <td>148.024998</td>\n",
       "      <td>150.487503</td>\n",
       "      <td>146.482498</td>\n",
       "      <td>149.074998</td>\n",
       "      <td>144.122245</td>\n",
       "      <td>9.669472e+08</td>\n",
       "    </tr>\n",
       "    <tr>\n",
       "      <th>2019-01-08</th>\n",
       "      <td>185.414997</td>\n",
       "      <td>188.442505</td>\n",
       "      <td>183.612499</td>\n",
       "      <td>186.762498</td>\n",
       "      <td>180.557643</td>\n",
       "      <td>1.131048e+09</td>\n",
       "    </tr>\n",
       "  </tbody>\n",
       "</table>\n",
       "</div>"
      ],
      "text/plain": [
       "                  Open        High         Low       Close   Adj Close        Volume\n",
       "Date                                                                                \n",
       "2019-01-02 NaN         NaN         NaN         NaN         NaN         NaN          \n",
       "2019-01-03 NaN         NaN         NaN         NaN         NaN         NaN          \n",
       "2019-01-04  110.849999  113.280003  110.007500  112.092500  108.368423  7.478360e+08\n",
       "2019-01-07  148.024998  150.487503  146.482498  149.074998  144.122245  9.669472e+08\n",
       "2019-01-08  185.414997  188.442505  183.612499  186.762498  180.557643  1.131048e+09"
      ]
     },
     "execution_count": 293,
     "metadata": {},
     "output_type": "execute_result"
    }
   ],
   "source": [
    "df.expanding(3).sum().head()"
   ]
  },
  {
   "cell_type": "markdown",
   "id": "b219cd5d",
   "metadata": {
    "hidden": true
   },
   "source": [
    "For example, just to be clear, it's same with cumsum() function when we use 1 window."
   ]
  },
  {
   "cell_type": "code",
   "execution_count": 294,
   "id": "af6496f0",
   "metadata": {
    "hidden": true
   },
   "outputs": [],
   "source": [
    "df[\"Volume_cum\"] = df.Volume.cumsum()"
   ]
  },
  {
   "cell_type": "code",
   "execution_count": 295,
   "id": "84d6530e",
   "metadata": {
    "hidden": true
   },
   "outputs": [],
   "source": [
    "df[\"Volume_cum_check\"] = df.Volume.expanding(1).sum()"
   ]
  },
  {
   "cell_type": "code",
   "execution_count": 296,
   "id": "bbd28e13",
   "metadata": {
    "hidden": true
   },
   "outputs": [
    {
     "data": {
      "text/html": [
       "<div>\n",
       "<style scoped>\n",
       "    .dataframe tbody tr th:only-of-type {\n",
       "        vertical-align: middle;\n",
       "    }\n",
       "\n",
       "    .dataframe tbody tr th {\n",
       "        vertical-align: top;\n",
       "    }\n",
       "\n",
       "    .dataframe thead th {\n",
       "        text-align: right;\n",
       "    }\n",
       "</style>\n",
       "<table border=\"1\" class=\"dataframe\">\n",
       "  <thead>\n",
       "    <tr style=\"text-align: right;\">\n",
       "      <th></th>\n",
       "      <th>Open</th>\n",
       "      <th>High</th>\n",
       "      <th>Low</th>\n",
       "      <th>Close</th>\n",
       "      <th>Adj Close</th>\n",
       "      <th>Volume</th>\n",
       "      <th>Volume_cum</th>\n",
       "      <th>Volume_cum_check</th>\n",
       "    </tr>\n",
       "    <tr>\n",
       "      <th>Date</th>\n",
       "      <th></th>\n",
       "      <th></th>\n",
       "      <th></th>\n",
       "      <th></th>\n",
       "      <th></th>\n",
       "      <th></th>\n",
       "      <th></th>\n",
       "      <th></th>\n",
       "    </tr>\n",
       "  </thead>\n",
       "  <tbody>\n",
       "    <tr>\n",
       "      <th>2019-01-02</th>\n",
       "      <td>38.722500</td>\n",
       "      <td>39.712502</td>\n",
       "      <td>38.557499</td>\n",
       "      <td>39.480000</td>\n",
       "      <td>38.168346</td>\n",
       "      <td>148158800</td>\n",
       "      <td>148158800</td>\n",
       "      <td>1.481588e+08</td>\n",
       "    </tr>\n",
       "    <tr>\n",
       "      <th>2019-01-03</th>\n",
       "      <td>35.994999</td>\n",
       "      <td>36.430000</td>\n",
       "      <td>35.500000</td>\n",
       "      <td>35.547501</td>\n",
       "      <td>34.366497</td>\n",
       "      <td>365248800</td>\n",
       "      <td>513407600</td>\n",
       "      <td>5.134076e+08</td>\n",
       "    </tr>\n",
       "    <tr>\n",
       "      <th>2019-01-04</th>\n",
       "      <td>36.132500</td>\n",
       "      <td>37.137501</td>\n",
       "      <td>35.950001</td>\n",
       "      <td>37.064999</td>\n",
       "      <td>35.833580</td>\n",
       "      <td>234428400</td>\n",
       "      <td>747836000</td>\n",
       "      <td>7.478360e+08</td>\n",
       "    </tr>\n",
       "    <tr>\n",
       "      <th>2019-01-07</th>\n",
       "      <td>37.174999</td>\n",
       "      <td>37.207500</td>\n",
       "      <td>36.474998</td>\n",
       "      <td>36.982498</td>\n",
       "      <td>35.753822</td>\n",
       "      <td>219111200</td>\n",
       "      <td>966947200</td>\n",
       "      <td>9.669472e+08</td>\n",
       "    </tr>\n",
       "    <tr>\n",
       "      <th>2019-01-08</th>\n",
       "      <td>37.389999</td>\n",
       "      <td>37.955002</td>\n",
       "      <td>37.130001</td>\n",
       "      <td>37.687500</td>\n",
       "      <td>36.435398</td>\n",
       "      <td>164101200</td>\n",
       "      <td>1131048400</td>\n",
       "      <td>1.131048e+09</td>\n",
       "    </tr>\n",
       "  </tbody>\n",
       "</table>\n",
       "</div>"
      ],
      "text/plain": [
       "                 Open       High        Low      Close  Adj Close     Volume  Volume_cum  Volume_cum_check\n",
       "Date                                                                                                      \n",
       "2019-01-02  38.722500  39.712502  38.557499  39.480000  38.168346  148158800  148158800   1.481588e+08    \n",
       "2019-01-03  35.994999  36.430000  35.500000  35.547501  34.366497  365248800  513407600   5.134076e+08    \n",
       "2019-01-04  36.132500  37.137501  35.950001  37.064999  35.833580  234428400  747836000   7.478360e+08    \n",
       "2019-01-07  37.174999  37.207500  36.474998  36.982498  35.753822  219111200  966947200   9.669472e+08    \n",
       "2019-01-08  37.389999  37.955002  37.130001  37.687500  36.435398  164101200  1131048400  1.131048e+09    "
      ]
     },
     "execution_count": 296,
     "metadata": {},
     "output_type": "execute_result"
    }
   ],
   "source": [
    "df.head()"
   ]
  },
  {
   "cell_type": "code",
   "execution_count": 297,
   "id": "0e55230f",
   "metadata": {
    "hidden": true,
    "scrolled": false
   },
   "outputs": [
    {
     "data": {
      "text/html": [
       "<div>\n",
       "<style scoped>\n",
       "    .dataframe tbody tr th:only-of-type {\n",
       "        vertical-align: middle;\n",
       "    }\n",
       "\n",
       "    .dataframe tbody tr th {\n",
       "        vertical-align: top;\n",
       "    }\n",
       "\n",
       "    .dataframe thead th {\n",
       "        text-align: right;\n",
       "    }\n",
       "</style>\n",
       "<table border=\"1\" class=\"dataframe\">\n",
       "  <thead>\n",
       "    <tr style=\"text-align: right;\">\n",
       "      <th></th>\n",
       "      <th>Open</th>\n",
       "      <th>High</th>\n",
       "      <th>Low</th>\n",
       "      <th>Close</th>\n",
       "      <th>Adj Close</th>\n",
       "      <th>Volume</th>\n",
       "      <th>Volume_cum</th>\n",
       "      <th>Volume_cum_check</th>\n",
       "    </tr>\n",
       "    <tr>\n",
       "      <th>Date</th>\n",
       "      <th></th>\n",
       "      <th></th>\n",
       "      <th></th>\n",
       "      <th></th>\n",
       "      <th></th>\n",
       "      <th></th>\n",
       "      <th></th>\n",
       "      <th></th>\n",
       "    </tr>\n",
       "  </thead>\n",
       "  <tbody>\n",
       "    <tr>\n",
       "      <th>2019-01-02</th>\n",
       "      <td>38.722500</td>\n",
       "      <td>39.712502</td>\n",
       "      <td>38.557499</td>\n",
       "      <td>39.480000</td>\n",
       "      <td>38.168346</td>\n",
       "      <td>1.481588e+08</td>\n",
       "      <td>148158800.0</td>\n",
       "      <td>148158800.0</td>\n",
       "    </tr>\n",
       "    <tr>\n",
       "      <th>2019-01-03</th>\n",
       "      <td>37.358750</td>\n",
       "      <td>38.071251</td>\n",
       "      <td>37.028750</td>\n",
       "      <td>37.513751</td>\n",
       "      <td>36.267421</td>\n",
       "      <td>2.567038e+08</td>\n",
       "      <td>330783200.0</td>\n",
       "      <td>330783200.0</td>\n",
       "    </tr>\n",
       "    <tr>\n",
       "      <th>2019-01-04</th>\n",
       "      <td>36.950000</td>\n",
       "      <td>37.760001</td>\n",
       "      <td>36.669167</td>\n",
       "      <td>37.364167</td>\n",
       "      <td>36.122808</td>\n",
       "      <td>2.492787e+08</td>\n",
       "      <td>469800800.0</td>\n",
       "      <td>469800800.0</td>\n",
       "    </tr>\n",
       "    <tr>\n",
       "      <th>2019-01-07</th>\n",
       "      <td>37.006249</td>\n",
       "      <td>37.621876</td>\n",
       "      <td>36.620624</td>\n",
       "      <td>37.268749</td>\n",
       "      <td>36.030561</td>\n",
       "      <td>2.417368e+08</td>\n",
       "      <td>594087400.0</td>\n",
       "      <td>594087400.0</td>\n",
       "    </tr>\n",
       "    <tr>\n",
       "      <th>2019-01-08</th>\n",
       "      <td>37.082999</td>\n",
       "      <td>37.688501</td>\n",
       "      <td>36.722500</td>\n",
       "      <td>37.352500</td>\n",
       "      <td>36.111529</td>\n",
       "      <td>2.262097e+08</td>\n",
       "      <td>701479600.0</td>\n",
       "      <td>701479600.0</td>\n",
       "    </tr>\n",
       "  </tbody>\n",
       "</table>\n",
       "</div>"
      ],
      "text/plain": [
       "                 Open       High        Low      Close  Adj Close        Volume   Volume_cum  Volume_cum_check\n",
       "Date                                                                                                          \n",
       "2019-01-02  38.722500  39.712502  38.557499  39.480000  38.168346  1.481588e+08  148158800.0  148158800.0     \n",
       "2019-01-03  37.358750  38.071251  37.028750  37.513751  36.267421  2.567038e+08  330783200.0  330783200.0     \n",
       "2019-01-04  36.950000  37.760001  36.669167  37.364167  36.122808  2.492787e+08  469800800.0  469800800.0     \n",
       "2019-01-07  37.006249  37.621876  36.620624  37.268749  36.030561  2.417368e+08  594087400.0  594087400.0     \n",
       "2019-01-08  37.082999  37.688501  36.722500  37.352500  36.111529  2.262097e+08  701479600.0  701479600.0     "
      ]
     },
     "execution_count": 297,
     "metadata": {},
     "output_type": "execute_result"
    }
   ],
   "source": [
    "df.rolling(window=len(df), min_periods=1).mean().head()"
   ]
  },
  {
   "cell_type": "markdown",
   "id": "d57085f4",
   "metadata": {
    "hidden": true
   },
   "source": [
    "Let's make a plot."
   ]
  },
  {
   "cell_type": "code",
   "execution_count": 298,
   "id": "81ae23f7",
   "metadata": {
    "hidden": true
   },
   "outputs": [
    {
     "data": {
      "image/png": "[encoded data removed]",
      "text/plain": [
       "<Figure size 864x360 with 1 Axes>"
      ]
     },
     "metadata": {
      "needs_background": "light"
     },
     "output_type": "display_data"
    }
   ],
   "source": [
    "df['High'].expanding(min_periods=30).mean().plot(figsize=(12,5));"
   ]
  },
  {
   "cell_type": "markdown",
   "id": "5c9e6e3c",
   "metadata": {},
   "source": [
    "# Visualizing Time Series Data"
   ]
  },
  {
   "cell_type": "markdown",
   "id": "034ff024",
   "metadata": {},
   "source": [
    "Let's create amazing plots by using same dataframe."
   ]
  },
  {
   "cell_type": "code",
   "execution_count": 299,
   "id": "a5eeb8af",
   "metadata": {},
   "outputs": [
    {
     "data": {
      "text/html": [
       "<div>\n",
       "<style scoped>\n",
       "    .dataframe tbody tr th:only-of-type {\n",
       "        vertical-align: middle;\n",
       "    }\n",
       "\n",
       "    .dataframe tbody tr th {\n",
       "        vertical-align: top;\n",
       "    }\n",
       "\n",
       "    .dataframe thead th {\n",
       "        text-align: right;\n",
       "    }\n",
       "</style>\n",
       "<table border=\"1\" class=\"dataframe\">\n",
       "  <thead>\n",
       "    <tr style=\"text-align: right;\">\n",
       "      <th></th>\n",
       "      <th>Open</th>\n",
       "      <th>High</th>\n",
       "      <th>Low</th>\n",
       "      <th>Close</th>\n",
       "      <th>Adj Close</th>\n",
       "      <th>Volume</th>\n",
       "      <th>Volume_cum</th>\n",
       "      <th>Volume_cum_check</th>\n",
       "    </tr>\n",
       "    <tr>\n",
       "      <th>Date</th>\n",
       "      <th></th>\n",
       "      <th></th>\n",
       "      <th></th>\n",
       "      <th></th>\n",
       "      <th></th>\n",
       "      <th></th>\n",
       "      <th></th>\n",
       "      <th></th>\n",
       "    </tr>\n",
       "  </thead>\n",
       "  <tbody>\n",
       "    <tr>\n",
       "      <th>2019-01-02</th>\n",
       "      <td>38.722500</td>\n",
       "      <td>39.712502</td>\n",
       "      <td>38.557499</td>\n",
       "      <td>39.480000</td>\n",
       "      <td>38.168346</td>\n",
       "      <td>148158800</td>\n",
       "      <td>148158800</td>\n",
       "      <td>1.481588e+08</td>\n",
       "    </tr>\n",
       "    <tr>\n",
       "      <th>2019-01-03</th>\n",
       "      <td>35.994999</td>\n",
       "      <td>36.430000</td>\n",
       "      <td>35.500000</td>\n",
       "      <td>35.547501</td>\n",
       "      <td>34.366497</td>\n",
       "      <td>365248800</td>\n",
       "      <td>513407600</td>\n",
       "      <td>5.134076e+08</td>\n",
       "    </tr>\n",
       "    <tr>\n",
       "      <th>2019-01-04</th>\n",
       "      <td>36.132500</td>\n",
       "      <td>37.137501</td>\n",
       "      <td>35.950001</td>\n",
       "      <td>37.064999</td>\n",
       "      <td>35.833580</td>\n",
       "      <td>234428400</td>\n",
       "      <td>747836000</td>\n",
       "      <td>7.478360e+08</td>\n",
       "    </tr>\n",
       "    <tr>\n",
       "      <th>2019-01-07</th>\n",
       "      <td>37.174999</td>\n",
       "      <td>37.207500</td>\n",
       "      <td>36.474998</td>\n",
       "      <td>36.982498</td>\n",
       "      <td>35.753822</td>\n",
       "      <td>219111200</td>\n",
       "      <td>966947200</td>\n",
       "      <td>9.669472e+08</td>\n",
       "    </tr>\n",
       "    <tr>\n",
       "      <th>2019-01-08</th>\n",
       "      <td>37.389999</td>\n",
       "      <td>37.955002</td>\n",
       "      <td>37.130001</td>\n",
       "      <td>37.687500</td>\n",
       "      <td>36.435398</td>\n",
       "      <td>164101200</td>\n",
       "      <td>1131048400</td>\n",
       "      <td>1.131048e+09</td>\n",
       "    </tr>\n",
       "  </tbody>\n",
       "</table>\n",
       "</div>"
      ],
      "text/plain": [
       "                 Open       High        Low      Close  Adj Close     Volume  Volume_cum  Volume_cum_check\n",
       "Date                                                                                                      \n",
       "2019-01-02  38.722500  39.712502  38.557499  39.480000  38.168346  148158800  148158800   1.481588e+08    \n",
       "2019-01-03  35.994999  36.430000  35.500000  35.547501  34.366497  365248800  513407600   5.134076e+08    \n",
       "2019-01-04  36.132500  37.137501  35.950001  37.064999  35.833580  234428400  747836000   7.478360e+08    \n",
       "2019-01-07  37.174999  37.207500  36.474998  36.982498  35.753822  219111200  966947200   9.669472e+08    \n",
       "2019-01-08  37.389999  37.955002  37.130001  37.687500  36.435398  164101200  1131048400  1.131048e+09    "
      ]
     },
     "execution_count": 299,
     "metadata": {},
     "output_type": "execute_result"
    }
   ],
   "source": [
    "df.head()"
   ]
  },
  {
   "cell_type": "markdown",
   "id": "f7d3514a",
   "metadata": {},
   "source": [
    "In order to make a time series plot, all of our indexes must be datetime. If it's not, we can convert it with **pd.to_datetime()** function as we showed above. Let's check it again."
   ]
  },
  {
   "cell_type": "code",
   "execution_count": 300,
   "id": "c25d3ef0",
   "metadata": {},
   "outputs": [
    {
     "data": {
      "text/plain": [
       "DatetimeIndex(['2019-01-02', '2019-01-03', '2019-01-04', '2019-01-07', '2019-01-08', '2019-01-09', '2019-01-10', '2019-01-11', '2019-01-14', '2019-01-15',\n",
       "               ...\n",
       "               '2022-08-16', '2022-08-17', '2022-08-18', '2022-08-19', '2022-08-22', '2022-08-23', '2022-08-24', '2022-08-25', '2022-08-26', '2022-08-29'], dtype='datetime64[ns]', name='Date', length=922, freq=None)"
      ]
     },
     "execution_count": 300,
     "metadata": {},
     "output_type": "execute_result"
    }
   ],
   "source": [
    "df.index"
   ]
  },
  {
   "cell_type": "markdown",
   "id": "26e2b990",
   "metadata": {},
   "source": [
    "First, let's plot daily high and low values."
   ]
  },
  {
   "cell_type": "code",
   "execution_count": 301,
   "id": "746cc7c9",
   "metadata": {},
   "outputs": [
    {
     "data": {
      "image/png": "[encoded data removed]",
      "text/plain": [
       "<Figure size 864x360 with 1 Axes>"
      ]
     },
     "metadata": {
      "needs_background": "light"
     },
     "output_type": "display_data"
    }
   ],
   "source": [
    "df[[\"High\",\"Low\"]].plot(figsize=(12,5));"
   ]
  },
  {
   "cell_type": "code",
   "execution_count": 302,
   "id": "188f2c99",
   "metadata": {},
   "outputs": [
    {
     "data": {
      "image/png": "[encoded data removed]",
      "text/plain": [
       "<Figure size 1080x432 with 1 Axes>"
      ]
     },
     "metadata": {
      "needs_background": "light"
     },
     "output_type": "display_data"
    }
   ],
   "source": [
    "ax = df['Low'].plot(figsize=(15,6), title=\"Apple Lowest Stock Prices\", color = \"g\")\n",
    "ax.autoscale(axis='x',tight=True)\n",
    "ax.set(xlabel=\"Lowest Price (USD)\", ylabel=\"Price Date\");"
   ]
  },
  {
   "cell_type": "markdown",
   "id": "6a51c79a",
   "metadata": {},
   "source": [
    "We can also filter data by using *xlim* and *ylim* parameter."
   ]
  },
  {
   "cell_type": "code",
   "execution_count": 303,
   "id": "f1ee51bd",
   "metadata": {},
   "outputs": [
    {
     "data": {
      "image/png": "[encoded data removed]",
      "text/plain": [
       "<Figure size 1080x432 with 1 Axes>"
      ]
     },
     "metadata": {
      "needs_background": "light"
     },
     "output_type": "display_data"
    }
   ],
   "source": [
    "ax = df['Low'].plot(figsize=(15,6),\n",
    "                    title=\"Apple Lowest Stock Prices\", \n",
    "                    color = \"red\",\n",
    "                    xlim=[\"2021-01-01\",\"2022-03-01\"],\n",
    "                    ls= \"--\")"
   ]
  },
  {
   "cell_type": "markdown",
   "id": "ff781b34",
   "metadata": {},
   "source": [
    "Let's create a boxplot of highest values monthly. First, we need to get the months of dates."
   ]
  },
  {
   "cell_type": "code",
   "execution_count": 304,
   "id": "8a8c7039",
   "metadata": {},
   "outputs": [],
   "source": [
    "df[\"Month\"] = df.index.month"
   ]
  },
  {
   "cell_type": "code",
   "execution_count": 305,
   "id": "aed4c2c3",
   "metadata": {},
   "outputs": [
    {
     "data": {
      "image/png": "[encoded data removed]",
      "text/plain": [
       "<Figure size 864x360 with 1 Axes>"
      ]
     },
     "metadata": {
      "needs_background": "light"
     },
     "output_type": "display_data"
    }
   ],
   "source": [
    "df[[\"High\",\"Month\"]].boxplot(by='Month',figsize=(12,5));"
   ]
  },
  {
   "cell_type": "code",
   "execution_count": null,
   "id": "7435f16a",
   "metadata": {},
   "outputs": [],
   "source": []
  },
  {
   "cell_type": "code",
   "execution_count": null,
   "id": "367cd948",
   "metadata": {},
   "outputs": [],
   "source": []
  },
  {
   "cell_type": "code",
   "execution_count": null,
   "id": "390d09ea",
   "metadata": {},
   "outputs": [],
   "source": []
  },
  {
   "cell_type": "markdown",
   "id": "ed4c0c02",
   "metadata": {},
   "source": [
    "<div class=\"alert alert-block alert-success\">\n",
    "<b>Upcoming Tutorials</b>\n",
    "    <li>Time Series with Statsmodels</li>\n",
    "    <li>Forecasting</li>\n",
    "    <li>Forecasting with Deep Learning</li>\n",
    "    <li>Facebook's Probhet</li>\n",
    "    <li>Facebook's Kats</li>\n",
    "    \n",
    "</div>"
   ]
  },
  {
   "cell_type": "markdown",
   "id": "90f868c7",
   "metadata": {},
   "source": [
    "Stay motivated!"
   ]
  }
 ],
 "metadata": {
  "kernelspec": {
   "display_name": "Python 3 (ipykernel)",
   "language": "python",
   "name": "python3"
  },
  "language_info": {
   "codemirror_mode": {
    "name": "ipython",
    "version": 3
   },
   "file_extension": ".py",
   "mimetype": "text/x-python",
   "name": "python",
   "nbconvert_exporter": "python",
   "pygments_lexer": "ipython3",
   "version": "3.9.12"
  },
  "toc": {
   "base_numbering": 1,
   "nav_menu": {},
   "number_sections": true,
   "sideBar": true,
   "skip_h1_title": false,
   "title_cell": "Table of Contents",
   "title_sidebar": "Contents",
   "toc_cell": false,
   "toc_position": {},
   "toc_section_display": true,
   "toc_window_display": false
  },
  "varInspector": {
   "cols": {
    "lenName": 16,
    "lenType": 16,
    "lenVar": 40
   },
   "kernels_config": {
    "python": {
     "delete_cmd_postfix": "",
     "delete_cmd_prefix": "del ",
     "library": "var_list.py",
     "varRefreshCmd": "print(var_dic_list())"
    },
    "r": {
     "delete_cmd_postfix": ") ",
     "delete_cmd_prefix": "rm(",
     "library": "var_list.r",
     "varRefreshCmd": "cat(var_dic_list()) "
    }
   },
   "types_to_exclude": [
    "module",
    "function",
    "builtin_function_or_method",
    "instance",
    "_Feature"
   ],
   "window_display": false
  }
 },
 "nbformat": 4,
 "nbformat_minor": 5
}
